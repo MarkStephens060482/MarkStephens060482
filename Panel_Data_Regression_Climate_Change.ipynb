{
  "cells": [
    {
      "cell_type": "markdown",
      "metadata": {
        "id": "view-in-github",
        "colab_type": "text"
      },
      "source": [
        "<a href=\"https://colab.research.google.com/github/MarkStephens060482/MarkStephens060482/blob/main/Panel_Data_Regression_Climate_Change.ipynb\" target=\"_parent\"><img src=\"https://colab.research.google.com/assets/colab-badge.svg\" alt=\"Open In Colab\"/></a>"
      ]
    },
    {
      "cell_type": "markdown",
      "id": "8f70ddad-41bb-4dfa-845e-fce29453e559",
      "metadata": {
        "id": "8f70ddad-41bb-4dfa-845e-fce29453e559"
      },
      "source": [
        "# Panel Data Regression\n",
        "### Action on climate change"
      ]
    },
    {
      "cell_type": "code",
      "source": [
        "from google.colab import drive\n",
        "drive.mount('/content/gdrive')"
      ],
      "metadata": {
        "id": "Z08ZgcnX2pSG",
        "colab": {
          "base_uri": "https://localhost:8080/"
        },
        "outputId": "09ea2bc8-134e-4ae5-833d-a754ca11ed7a"
      },
      "id": "Z08ZgcnX2pSG",
      "execution_count": null,
      "outputs": [
        {
          "output_type": "stream",
          "name": "stdout",
          "text": [
            "Drive already mounted at /content/gdrive; to attempt to forcibly remount, call drive.mount(\"/content/gdrive\", force_remount=True).\n"
          ]
        }
      ]
    },
    {
      "cell_type": "code",
      "execution_count": null,
      "id": "0b8e296b-0e24-4d37-a1b4-29e88970f62a",
      "metadata": {
        "colab": {
          "base_uri": "https://localhost:8080/"
        },
        "id": "0b8e296b-0e24-4d37-a1b4-29e88970f62a",
        "outputId": "fde07f86-84d2-4cab-9f4c-9a113b487435"
      },
      "outputs": [
        {
          "output_type": "stream",
          "name": "stdout",
          "text": [
            "Current working directory: /content/gdrive/MyDrive/Colab Notebooks\n"
          ]
        }
      ],
      "source": [
        "import pandas as pd, seaborn as sns, numpy as np,  matplotlib.pyplot as plt, datetime as dt, scipy.stats as st\n",
        "from pprint import pprint\n",
        "import os, csv\n",
        "\n",
        "path = '/content/gdrive/MyDrive/Colab Notebooks/'\n",
        "\n",
        "try:\n",
        "  cwd = os.chdir(path)\n",
        "   \n",
        "  print(\"Current working directory: {0}\".format(os.getcwd()))\n",
        "    \n",
        "except FileNotFoundError:\n",
        "    print(\"Directory: {0} does not exist\".format(path))\n",
        "except NotADirectoryError:\n",
        "    print(\"{0} is not a directory\".format(path))\n",
        "except PermissionError:\n",
        "    print(\"You do not have permissions to change to {0}\".format(path))"
      ]
    },
    {
      "cell_type": "code",
      "source": [
        "!pip install scikit-lego\n",
        "!pip install linearmodels\n",
        "!pip install miceforest"
      ],
      "metadata": {
        "id": "PmjnRo6f0w1n"
      },
      "id": "PmjnRo6f0w1n",
      "execution_count": null,
      "outputs": []
    },
    {
      "cell_type": "code",
      "execution_count": null,
      "id": "c5038109-7cb7-400b-a8ca-c8321fb436e0",
      "metadata": {
        "id": "c5038109-7cb7-400b-a8ca-c8321fb436e0"
      },
      "outputs": [],
      "source": [
        "from sklearn.preprocessing import PolynomialFeatures\n",
        "from sklearn.preprocessing import RobustScaler\n",
        "from sklearn.pipeline import make_pipeline\n",
        "from sklearn.compose import make_column_transformer\n",
        "from sklego.model_selection import GroupTimeSeriesSplit\n",
        "from linearmodels import PanelOLS, RandomEffects\n",
        "from linearmodels.panel import PooledOLS\n",
        "import statsmodels.api as sm\n",
        "import miceforest as mf\n",
        "\n",
        "categories = ['Climate Change Performance Index',\n",
        "                           'Corruption Perception Index',\n",
        "                           'Democracy Index',\n",
        "                           'Education Index',\n",
        "                           'Income Index',\n",
        "                           'Inequality-adjusted Education Index',\n",
        "                           'Inequality adjusted Income Index',\n",
        "                           'Global Peace Index',\n",
        "                           'Environmental Performance Index',\n",
        "                           'Human Development Index']\n",
        "\n",
        "\n",
        "file_name = \"data_set_impute_ready2.csv\"\n",
        "with open('/content/gdrive/MyDrive/Colab Notebooks/data_set_impute_ready2.csv',encoding=\"utf-8\") as dataFile:\n",
        "  df = pd.read_csv(dataFile,low_memory=False)\n",
        "          "
      ]
    },
    {
      "cell_type": "code",
      "source": [
        "df['country'] = pd.Categorical(df['country'])\n",
        "df['Year'] = pd.Categorical(df['Year'])"
      ],
      "metadata": {
        "id": "yad05m0a67jW"
      },
      "id": "yad05m0a67jW",
      "execution_count": null,
      "outputs": []
    },
    {
      "cell_type": "code",
      "source": [
        "imputer = mf.ImputationKernel(df,\n",
        "                              datasets = 20,\n",
        "                              categorical_feature=\"auto\",\n",
        "                              random_state = 21)\n",
        "\n",
        "imputer.mice(20)\n"
      ],
      "metadata": {
        "id": "KiD6BwaB7FrA"
      },
      "id": "KiD6BwaB7FrA",
      "execution_count": null,
      "outputs": []
    },
    {
      "cell_type": "code",
      "source": [
        "imputer.plot_correlations(wspace=0.4,hspace=0.5)"
      ],
      "metadata": {
        "colab": {
          "base_uri": "https://localhost:8080/",
          "height": 166
        },
        "id": "dmyp_cnxRJew",
        "outputId": "e80c924a-b80f-4460-f01d-1e726cfe492b"
      },
      "id": "dmyp_cnxRJew",
      "execution_count": null,
      "outputs": [
        {
          "output_type": "error",
          "ename": "NameError",
          "evalue": "ignored",
          "traceback": [
            "\u001b[0;31m---------------------------------------------------------------------------\u001b[0m",
            "\u001b[0;31mNameError\u001b[0m                                 Traceback (most recent call last)",
            "\u001b[0;32m<ipython-input-1-3ee835eb2942>\u001b[0m in \u001b[0;36m<module>\u001b[0;34m\u001b[0m\n\u001b[0;32m----> 1\u001b[0;31m \u001b[0mimputer\u001b[0m\u001b[0;34m.\u001b[0m\u001b[0mplot_correlations\u001b[0m\u001b[0;34m(\u001b[0m\u001b[0mwspace\u001b[0m\u001b[0;34m=\u001b[0m\u001b[0;36m0.4\u001b[0m\u001b[0;34m,\u001b[0m\u001b[0mhspace\u001b[0m\u001b[0;34m=\u001b[0m\u001b[0;36m0.5\u001b[0m\u001b[0;34m)\u001b[0m\u001b[0;34m\u001b[0m\u001b[0;34m\u001b[0m\u001b[0m\n\u001b[0m",
            "\u001b[0;31mNameError\u001b[0m: name 'imputer' is not defined"
          ]
        }
      ]
    },
    {
      "cell_type": "markdown",
      "id": "bbc2099b-5bd4-4125-afd1-56ef958f0d35",
      "metadata": {
        "id": "bbc2099b-5bd4-4125-afd1-56ef958f0d35"
      },
      "source": [
        "# Effects  hypothesis Tests\n",
        "### Determine Your Model\n",
        "\n",
        "In order to determine your model, conduct necessary tests: F test for the fixed effect model and Breusch-Pagan Lagrange Multiplier (LM) test. Hausman test is needed if you find both fixed and random effects. See the next section for the test. Once you finish F and LM tests, determine your model as shown in the following table.\n",
        "\n",
        "| Fixed effect (F test or Wald test) Performed on Fixed effects model| Random effect (Breusch-Pagan LM test) Performed on OLS model | Correct model |\n",
        "| :---------------------------------| :-------------------------------------|:-------------:|\n",
        "| **H0 is not rejected** (No fixed effect)| **H0 is not rejected** (No random effect) | Data are poolable **Pooled OLS**|\n",
        "|  | | |\n",
        "|**H0 is rejected** (fixed effect)| **H0 is not rejected**  (No random effect)   | **Fixed effect model**|\n",
        "|  || |\n",
        "| **H0 is not rejected** (No fixed effect) | **H0 is rejected** (random effect)| **Random effect model**|\n",
        "| | | |\n",
        "| **H0 is rejected** (fixed effect) | **H0 is rejected** (random effect) | (1) Fixed and random effect model or (2) choose one of the two depending on the result of Hausman test (recommended direction).\n",
        " |\n",
        "|  | | |\n",
        "\n",
        "\n"
      ]
    },
    {
      "cell_type": "code",
      "execution_count": null,
      "id": "d9f5d68d-1171-4f21-af8d-d4645c75d4fe",
      "metadata": {
        "id": "d9f5d68d-1171-4f21-af8d-d4645c75d4fe"
      },
      "outputs": [],
      "source": [
        "from scipy.stats import chi2\n",
        "def FERE_test(model_fit):\n",
        "    # model tests for FE and RE\n",
        "    if hasattr(model_fit, 'name'):\n",
        "        if model_fit.name == 'PooledOLS':\n",
        "            # Breusch and Pagan (1980) Langrange - Multiplier for random effects based on OLS residuals.\n",
        "            # entity specific means of OLS residuals\n",
        "            e_bar = model_fit.resids.groupby('country').mean()\n",
        "            e = model_fit.resids\n",
        "            T = model_fit.entity_info[0]\n",
        "            n = model_fit.entity_info[4]\n",
        "            #LM statistics \n",
        "            LM = ((n*T)/(2*(T-1)))*((((T**2)*e_bar.T.dot(e_bar))/(e.T.dot(e))) - 1)**2\n",
        "            # Determine p-value\n",
        "            p_value = 1 - chi2.cdf(LM, 1)\n",
        "            if p_value < 0.05:\n",
        "                return \"Random effects\"\n",
        "            else:\n",
        "                return \"No random effects\"\n",
        "\n",
        "        elif model_fit.name == 'PanelOLS':\n",
        "            # Perform an F-test  for Pooling data on Fixed effects model\n",
        "            FE_test = model_fit.f_pooled.pval\n",
        "            if FE_test < 0.05:\n",
        "                return \"Fixed effects\"\n",
        "            else:\n",
        "                return \"No fixed effects\"\n",
        "        else:\n",
        "            return \"no test\"\n",
        "    else:\n",
        "        return \"no test\"\n",
        "        "
      ]
    },
    {
      "cell_type": "code",
      "execution_count": null,
      "id": "e696d5ca-9c46-4939-bd33-2ffd8965d6af",
      "metadata": {
        "id": "e696d5ca-9c46-4939-bd33-2ffd8965d6af"
      },
      "outputs": [],
      "source": [
        "from sklearn.dummy import DummyRegressor\n",
        "\n",
        "predict_dict = {}\n",
        "FE_RE_tests_dict={}\n",
        "\n",
        "for i in range(1,21):\n",
        "  dataset = imputer.complete_data(i-1)  \n",
        "  # drop variables from dataframe.\n",
        "  climate_df = dataset.drop(columns = ['education_index',\n",
        "                                       'income_index',\n",
        "                                       'ia_income_index',\n",
        "                                       'gpi'])\n",
        "  \n",
        "  #Panel Regression models\n",
        "  \n",
        "  # set indexes to develop panel data structure\n",
        "  year = pd.Categorical(climate_df.Year)\n",
        "  country = pd.Categorical(climate_df.country)\n",
        "  \n",
        "  # feature matrix and target variable for training set\n",
        "  X_train = climate_df[climate_df['Year'] < 2020].drop(columns = ['ccpi'])\n",
        "  \n",
        "  # Set indices\n",
        "  X_train = X_train.set_index(['country','Year'])\n",
        "  \n",
        "  # target variable\n",
        "  y_train = climate_df.loc[climate_df['Year'] < 2020,['ccpi','Year','country']]\n",
        "  \n",
        "    # Set indices\n",
        "  y_train = y_train.set_index(['country','Year'])\n",
        "  \n",
        "  # feature matrix and target variable for testing set\n",
        "  X_test = climate_df[climate_df['Year'] >= 2020].drop(columns = ['ccpi'])\n",
        "  \n",
        "  # Set indices\n",
        "  X_test = X_test.set_index(['country','Year'])\n",
        "  \n",
        "  #make country and Year an index\n",
        "  y_test = climate_df.loc[climate_df['Year'] >= 2020,['ccpi','Year','country']]\n",
        "  \n",
        "  # Set indices\n",
        "  y_test = y_test.set_index(['country','Year'])\n",
        "  \n",
        "  #sklearn\n",
        "  #Dummy Regressor\n",
        "  dummy = DummyRegressor()\n",
        "  modeldummy = dummy.fit(X_train, y_train)\n",
        "  \n",
        "  # Pooled Ordinary Least Squares model\n",
        "  exog = sm.add_constant(X_train)\n",
        "  \n",
        "  #Linear Models    \n",
        "  #Pooled Model\n",
        "  model1 = PooledOLS(y_train, exog)\n",
        "  # Fixed effects in countries - time invariant\n",
        "  model2 = PanelOLS(y_train, exog, entity_effects=True)\n",
        "  # Fixed effects in time - individual invariant\n",
        "  model3 = PanelOLS(y_train, exog, time_effects= True)\n",
        "  # Mixed effects in countries and years/\n",
        "  model4 = PanelOLS(y_train, exog, entity_effects=True, time_effects= True)\n",
        "  # Random Effects Model\n",
        "  model5 = RandomEffects(y_train, exog)\n",
        "  \n",
        "  models = [model1,model2,model3,model4,model5]\n",
        "  \n",
        "  # loop through Panel Regression models and fit data, collect parameter estimates     \n",
        "  for j, model in enumerate(models):\n",
        "      \n",
        "      model_fit = model.fit(cov_type=\"clustered\", cluster_entity=True)\n",
        "          \n",
        "      y_pred = model_fit.predict(sm.add_constant(X_test)).rename(columns={\"predictions\": \"ccpi\"+str(i+1)})\n",
        "      \n",
        "      if len(predict_dict) < len(models):\n",
        "          # model predictions for first imputation\n",
        "          predict_dict[str(model_fit.name)+str(j+1)] = [y_pred]\n",
        "          # Model tests and evaluations  based on OLS and Fixed effects model for first imputation\n",
        "          FE_RE_tests_dict[str(model_fit.name)+str(j+1)] = [FERE_test(model_fit)]\n",
        "          continue\n",
        "                    \n",
        "      # model predictions for second to last imputation\n",
        "      predict_dict[str(model_fit.name)+str(j+1)].append(y_pred)\n",
        "      # Model tests and evaluations based on OLS and Fixed effects model for second to last imputation\n",
        "      FE_RE_tests_dict[str(model_fit.name)+str(j+1)].append(FERE_test(model_fit))\n",
        "  \n",
        "  #prediction on Dummy Regressor\n",
        "  y_pred_dummy = pd.DataFrame(modeldummy.predict(X_test),columns = y_pred.columns, index = y_pred.index)\n",
        "  \n",
        "  #add predictions on dummy regression to model predictions dictionary for first imputation\n",
        "  if len(predict_dict) < len(models)+1:\n",
        "      predict_dict['dummy'] = [y_pred_dummy]\n",
        "      FE_RE_tests_dict['dummy']=[FERE_test(modeldummy.fit(X_train,y_train))]\n",
        "      continue\n",
        "  \n",
        "  #add predictions on dummy regression to model predictions dictionary for second to last imputation\n",
        "  predict_dict['dummy'].append(y_pred_dummy)\n",
        "  FE_RE_tests_dict['dummy'].append(FERE_test(modeldummy.fit(X_train,y_train)))\n",
        "  "
      ]
    },
    {
      "cell_type": "markdown",
      "id": "ca974e32-cdd5-4459-9233-d71decff2cdc",
      "metadata": {
        "id": "ca974e32-cdd5-4459-9233-d71decff2cdc"
      },
      "source": [
        "# Rubin's Rules - Combining estimates from model of imputation data\n",
        "For a single population parameter of interest, Q, e.g. a regression coefficient, the MI overall point estimate is the average of the m estimates of Q from the imputed datasets: \n",
        "1.  Q_bar = (1/m).sum(Q_hat_i) \n",
        "\n",
        "The associated total variance for this overall MI estimate is: \n",
        "1. T = U_hat + ( 1 + 1/m)B, where\n",
        "2. U_hat = (1/m).sum(U_i) is the estimated within imputation variance.\n",
        "3. B = (1/(m-1)).sum(Q_hat - Q_bar)^2 \n",
        "\n"
      ]
    },
    {
      "cell_type": "code",
      "execution_count": null,
      "id": "7d2fd921-d210-478e-97f9-9735bbe9e308",
      "metadata": {
        "id": "7d2fd921-d210-478e-97f9-9735bbe9e308",
        "outputId": "3f4a767b-39ff-4ffb-f199-9f8effeb2d95",
        "colab": {
          "base_uri": "https://localhost:8080/",
          "height": 204
        }
      },
      "outputs": [
        {
          "output_type": "execute_result",
          "data": {
            "text/plain": [
              "                  PooledOLS1      PanelOLS2      PanelOLS3      PanelOLS4  \\\n",
              "RMSE                    11.9           13.3           12.0           13.4   \n",
              "r2                      15.5           -6.4           12.7           -7.5   \n",
              "Test outcome  Random effects  Fixed effects  Fixed effects  Fixed effects   \n",
              "\n",
              "             RandomEffects5    dummy  \n",
              "RMSE                   12.1     13.7  \n",
              "r2                     11.7    -12.6  \n",
              "Test outcome        no test  no test  "
            ],
            "text/html": [
              "\n",
              "  <div id=\"df-22d798f4-28f2-4493-afee-255a7cffc7cb\">\n",
              "    <div class=\"colab-df-container\">\n",
              "      <div>\n",
              "<style scoped>\n",
              "    .dataframe tbody tr th:only-of-type {\n",
              "        vertical-align: middle;\n",
              "    }\n",
              "\n",
              "    .dataframe tbody tr th {\n",
              "        vertical-align: top;\n",
              "    }\n",
              "\n",
              "    .dataframe thead th {\n",
              "        text-align: right;\n",
              "    }\n",
              "</style>\n",
              "<table border=\"1\" class=\"dataframe\">\n",
              "  <thead>\n",
              "    <tr style=\"text-align: right;\">\n",
              "      <th></th>\n",
              "      <th>PooledOLS1</th>\n",
              "      <th>PanelOLS2</th>\n",
              "      <th>PanelOLS3</th>\n",
              "      <th>PanelOLS4</th>\n",
              "      <th>RandomEffects5</th>\n",
              "      <th>dummy</th>\n",
              "    </tr>\n",
              "  </thead>\n",
              "  <tbody>\n",
              "    <tr>\n",
              "      <th>RMSE</th>\n",
              "      <td>11.9</td>\n",
              "      <td>13.3</td>\n",
              "      <td>12.0</td>\n",
              "      <td>13.4</td>\n",
              "      <td>12.1</td>\n",
              "      <td>13.7</td>\n",
              "    </tr>\n",
              "    <tr>\n",
              "      <th>r2</th>\n",
              "      <td>15.5</td>\n",
              "      <td>-6.4</td>\n",
              "      <td>12.7</td>\n",
              "      <td>-7.5</td>\n",
              "      <td>11.7</td>\n",
              "      <td>-12.6</td>\n",
              "    </tr>\n",
              "    <tr>\n",
              "      <th>Test outcome</th>\n",
              "      <td>Random effects</td>\n",
              "      <td>Fixed effects</td>\n",
              "      <td>Fixed effects</td>\n",
              "      <td>Fixed effects</td>\n",
              "      <td>no test</td>\n",
              "      <td>no test</td>\n",
              "    </tr>\n",
              "  </tbody>\n",
              "</table>\n",
              "</div>\n",
              "      <button class=\"colab-df-convert\" onclick=\"convertToInteractive('df-22d798f4-28f2-4493-afee-255a7cffc7cb')\"\n",
              "              title=\"Convert this dataframe to an interactive table.\"\n",
              "              style=\"display:none;\">\n",
              "        \n",
              "  <svg xmlns=\"http://www.w3.org/2000/svg\" height=\"24px\"viewBox=\"0 0 24 24\"\n",
              "       width=\"24px\">\n",
              "    <path d=\"M0 0h24v24H0V0z\" fill=\"none\"/>\n",
              "    <path d=\"M18.56 5.44l.94 2.06.94-2.06 2.06-.94-2.06-.94-.94-2.06-.94 2.06-2.06.94zm-11 1L8.5 8.5l.94-2.06 2.06-.94-2.06-.94L8.5 2.5l-.94 2.06-2.06.94zm10 10l.94 2.06.94-2.06 2.06-.94-2.06-.94-.94-2.06-.94 2.06-2.06.94z\"/><path d=\"M17.41 7.96l-1.37-1.37c-.4-.4-.92-.59-1.43-.59-.52 0-1.04.2-1.43.59L10.3 9.45l-7.72 7.72c-.78.78-.78 2.05 0 2.83L4 21.41c.39.39.9.59 1.41.59.51 0 1.02-.2 1.41-.59l7.78-7.78 2.81-2.81c.8-.78.8-2.07 0-2.86zM5.41 20L4 18.59l7.72-7.72 1.47 1.35L5.41 20z\"/>\n",
              "  </svg>\n",
              "      </button>\n",
              "      \n",
              "  <style>\n",
              "    .colab-df-container {\n",
              "      display:flex;\n",
              "      flex-wrap:wrap;\n",
              "      gap: 12px;\n",
              "    }\n",
              "\n",
              "    .colab-df-convert {\n",
              "      background-color: #E8F0FE;\n",
              "      border: none;\n",
              "      border-radius: 50%;\n",
              "      cursor: pointer;\n",
              "      display: none;\n",
              "      fill: #1967D2;\n",
              "      height: 32px;\n",
              "      padding: 0 0 0 0;\n",
              "      width: 32px;\n",
              "    }\n",
              "\n",
              "    .colab-df-convert:hover {\n",
              "      background-color: #E2EBFA;\n",
              "      box-shadow: 0px 1px 2px rgba(60, 64, 67, 0.3), 0px 1px 3px 1px rgba(60, 64, 67, 0.15);\n",
              "      fill: #174EA6;\n",
              "    }\n",
              "\n",
              "    [theme=dark] .colab-df-convert {\n",
              "      background-color: #3B4455;\n",
              "      fill: #D2E3FC;\n",
              "    }\n",
              "\n",
              "    [theme=dark] .colab-df-convert:hover {\n",
              "      background-color: #434B5C;\n",
              "      box-shadow: 0px 1px 3px 1px rgba(0, 0, 0, 0.15);\n",
              "      filter: drop-shadow(0px 1px 2px rgba(0, 0, 0, 0.3));\n",
              "      fill: #FFFFFF;\n",
              "    }\n",
              "  </style>\n",
              "\n",
              "      <script>\n",
              "        const buttonEl =\n",
              "          document.querySelector('#df-22d798f4-28f2-4493-afee-255a7cffc7cb button.colab-df-convert');\n",
              "        buttonEl.style.display =\n",
              "          google.colab.kernel.accessAllowed ? 'block' : 'none';\n",
              "\n",
              "        async function convertToInteractive(key) {\n",
              "          const element = document.querySelector('#df-22d798f4-28f2-4493-afee-255a7cffc7cb');\n",
              "          const dataTable =\n",
              "            await google.colab.kernel.invokeFunction('convertToInteractive',\n",
              "                                                     [key], {});\n",
              "          if (!dataTable) return;\n",
              "\n",
              "          const docLinkHtml = 'Like what you see? Visit the ' +\n",
              "            '<a target=\"_blank\" href=https://colab.research.google.com/notebooks/data_table.ipynb>data table notebook</a>'\n",
              "            + ' to learn more about interactive tables.';\n",
              "          element.innerHTML = '';\n",
              "          dataTable['output_type'] = 'display_data';\n",
              "          await google.colab.output.renderOutput(dataTable, element);\n",
              "          const docLink = document.createElement('div');\n",
              "          docLink.innerHTML = docLinkHtml;\n",
              "          element.appendChild(docLink);\n",
              "        }\n",
              "      </script>\n",
              "    </div>\n",
              "  </div>\n",
              "  "
            ]
          },
          "metadata": {},
          "execution_count": 59
        }
      ],
      "source": [
        "# Combine point estimates using Rubin's Rules and evaluate performance \n",
        "from sklearn.metrics import mean_squared_error\n",
        "from sklearn.metrics import r2_score\n",
        "from statistics import mode \n",
        "\n",
        "mean_predict_dict = {}\n",
        "withinvar_predict_dict = {}\n",
        "betweenvar_predict_dict = {}\n",
        "RMSE_dict = {}\n",
        "r2_dict = {}\n",
        "mode_REFE_test_outcome_dict = {}\n",
        "\n",
        "for key in predict_dict.keys():\n",
        "    # Q_bar per model\n",
        "    mean_predict_dict[key] = pd.concat(predict_dict[key], axis = 1).mean(axis =1)\n",
        "    \n",
        "    # Determine mode of Fixed Effect and Random Effect Test outcomes for each model.\n",
        "    mode_REFE_test_outcome_dict[key] = mode(FE_RE_tests_dict[key])\n",
        "    \n",
        "    # between Imputation Variance, B\n",
        "    betweenvar_predict_dict[key] = (1/(n-1))*(pd.concat(predict_dict[key], axis = 1).sub(mean_predict_dict[key], axis = 0))**2  \n",
        "    \n",
        "    # Standard Error of the prediction\n",
        "    #sterr_pred_dict[key] = \n",
        "    \n",
        "    # Within Imputation Variance\n",
        "    #withinvar_predict_dict[key] = pd.concat(sterr_pred_dict[key], axis = 1).mean(axis =1)\n",
        "    \n",
        "    \n",
        "    # Root Mean Squared Error\n",
        "    RMSE_dict[key] = round(mean_squared_error(y_test, mean_predict_dict[key],squared=False),1)\n",
        "    \n",
        "    \n",
        "    # R squared score\n",
        "    r2_dict[key] = round(100*r2_score(y_test, mean_predict_dict[key]),1)\n",
        "    \n",
        "# Present Table of model evaluates\n",
        "pd.DataFrame([RMSE_dict,r2_dict,mode_REFE_test_outcome_dict],columns =list(mean_predict_dict.keys()) ,index = [\"RMSE\",'r2','Test outcome'])\n",
        "\n",
        "    \n"
      ]
    },
    {
      "cell_type": "code",
      "execution_count": null,
      "id": "a5fa709c-5421-402c-922a-9e2e3ed4648c",
      "metadata": {
        "id": "a5fa709c-5421-402c-922a-9e2e3ed4648c",
        "outputId": "c327ad48-c68e-4fef-faf0-546b1f866b1b",
        "colab": {
          "base_uri": "https://localhost:8080/",
          "height": 702
        }
      },
      "outputs": [
        {
          "output_type": "execute_result",
          "data": {
            "text/plain": [
              "                                          Model Comparison                                         \n",
              "===================================================================================================\n",
              "                                Pooled     Entity FE        Time FE Mixed Effects    Random Effects\n",
              "---------------------------------------------------------------------------------------------------\n",
              "Dep. Variable                     ccpi          ccpi           ccpi          ccpi              ccpi\n",
              "Estimator                    PooledOLS      PanelOLS       PanelOLS      PanelOLS     RandomEffects\n",
              "No. Observations                   660           660            660           660               660\n",
              "Cov. Est.                    Clustered     Clustered      Clustered     Clustered         Clustered\n",
              "R-squared                       0.2971        0.0239         0.3580        0.0334            0.0679\n",
              "R-Squared (Within)             -0.0729        0.0239        -0.4474        0.0031            0.0151\n",
              "R-Squared (Between)             0.4438        0.0086         0.5147       -0.3989            0.3585\n",
              "R-Squared (Overall)             0.2971        0.0130         0.2415       -0.2847            0.2609\n",
              "F-statistic                     55.288        2.9380         71.710        4.0762            9.5230\n",
              "P-value (F-stat)                0.0000        0.0125         0.0000        0.0012            0.0000\n",
              "=====================     ============   ===========   ============   ===========   ===============\n",
              "const                        80.245***     95.882***      82.321***      130.55**         79.036***\n",
              "                              (6.0161)      (3.0143)       (7.3572)      (2.4355)          (7.4489)\n",
              "cpi                             0.0387        0.1069         0.0401        0.1117           0.0947*\n",
              "                              (0.6029)      (1.2628)       (0.6666)      (1.3271)          (1.9364)\n",
              "eiudi                        0.2672***        0.0212      0.2291***        0.0538         0.2113***\n",
              "                              (3.8293)      (0.1476)       (3.3217)      (0.3502)          (3.0283)\n",
              "ia_education_index              0.0785        0.0159         0.0936        0.0203            0.0500\n",
              "                              (0.8041)      (0.1132)       (1.0933)      (0.2059)          (0.5020)\n",
              "epi                          0.2526***       0.0630*      0.5001***        0.0524          0.0837**\n",
              "                              (5.9246)      (1.6561)       (6.2542)      (0.8152)          (2.5023)\n",
              "hdi                         -0.8296***      -0.6570*     -1.0263***      -1.0951*        -0.6523***\n",
              "                             (-3.0905)     (-1.8384)      (-4.2510)     (-1.9481)         (-2.9596)\n",
              "======================= ============== ============= ============== ============= =================\n",
              "Effects                                       Entity           Time        Entity                  \n",
              "                                                                             Time                  \n",
              "---------------------------------------------------------------------------------------------------\n",
              "\n",
              "T-stats reported in parentheses\n",
              "PanelModelComparison, id: 0x7f4ca890e3d0"
            ],
            "text/html": [
              "<table class=\"simpletable\">\n",
              "<caption>Model Comparison</caption>\n",
              "<tr>\n",
              "             <td></td>                 <th>Pooled</th>       <th>Entity FE</th>       <th>Time FE</th>    <th>Mixed Effects</th>  <th>Random Effects</th>  \n",
              "</tr>\n",
              "<tr>\n",
              "  <th>Dep. Variable</th>                <td>ccpi</td>          <td>ccpi</td>           <td>ccpi</td>          <td>ccpi</td>            <td>ccpi</td>       \n",
              "</tr>\n",
              "<tr>\n",
              "  <th>Estimator</th>                  <td>PooledOLS</td>     <td>PanelOLS</td>       <td>PanelOLS</td>      <td>PanelOLS</td>      <td>RandomEffects</td>  \n",
              "</tr>\n",
              "<tr>\n",
              "  <th>No. Observations</th>              <td>660</td>           <td>660</td>            <td>660</td>           <td>660</td>             <td>660</td>       \n",
              "</tr>\n",
              "<tr>\n",
              "  <th>Cov. Est.</th>                  <td>Clustered</td>     <td>Clustered</td>      <td>Clustered</td>     <td>Clustered</td>       <td>Clustered</td>    \n",
              "</tr>\n",
              "<tr>\n",
              "  <th>R-squared</th>                   <td>0.2971</td>        <td>0.0239</td>         <td>0.3580</td>        <td>0.0334</td>          <td>0.0679</td>      \n",
              "</tr>\n",
              "<tr>\n",
              "  <th>R-Squared (Within)</th>          <td>-0.0729</td>       <td>0.0239</td>         <td>-0.4474</td>       <td>0.0031</td>          <td>0.0151</td>      \n",
              "</tr>\n",
              "<tr>\n",
              "  <th>R-Squared (Between)</th>         <td>0.4438</td>        <td>0.0086</td>         <td>0.5147</td>        <td>-0.3989</td>         <td>0.3585</td>      \n",
              "</tr>\n",
              "<tr>\n",
              "  <th>R-Squared (Overall)</th>         <td>0.2971</td>        <td>0.0130</td>         <td>0.2415</td>        <td>-0.2847</td>         <td>0.2609</td>      \n",
              "</tr>\n",
              "<tr>\n",
              "  <th>F-statistic</th>                 <td>55.288</td>        <td>2.9380</td>         <td>71.710</td>        <td>4.0762</td>          <td>9.5230</td>      \n",
              "</tr>\n",
              "<tr>\n",
              "  <th>P-value (F-stat)</th>            <td>0.0000</td>        <td>0.0125</td>         <td>0.0000</td>        <td>0.0012</td>          <td>0.0000</td>      \n",
              "</tr>\n",
              "<tr>\n",
              "  <th>=====================</th>    <td>============</td>   <td>===========</td>   <td>============</td>   <td>===========</td>   <td>===============</td> \n",
              "</tr>\n",
              "<tr>\n",
              "  <th>const</th>                      <td>80.245***</td>     <td>95.882***</td>      <td>82.321***</td>     <td>130.55**</td>        <td>79.036***</td>    \n",
              "</tr>\n",
              "<tr>\n",
              "  <th> </th>                          <td>(6.0161)</td>      <td>(3.0143)</td>       <td>(7.3572)</td>      <td>(2.4355)</td>        <td>(7.4489)</td>     \n",
              "</tr>\n",
              "<tr>\n",
              "  <th>cpi</th>                         <td>0.0387</td>        <td>0.1069</td>         <td>0.0401</td>        <td>0.1117</td>          <td>0.0947*</td>     \n",
              "</tr>\n",
              "<tr>\n",
              "  <th> </th>                          <td>(0.6029)</td>      <td>(1.2628)</td>       <td>(0.6666)</td>      <td>(1.3271)</td>        <td>(1.9364)</td>     \n",
              "</tr>\n",
              "<tr>\n",
              "  <th>eiudi</th>                      <td>0.2672***</td>      <td>0.0212</td>        <td>0.2291***</td>      <td>0.0538</td>         <td>0.2113***</td>    \n",
              "</tr>\n",
              "<tr>\n",
              "  <th> </th>                          <td>(3.8293)</td>      <td>(0.1476)</td>       <td>(3.3217)</td>      <td>(0.3502)</td>        <td>(3.0283)</td>     \n",
              "</tr>\n",
              "<tr>\n",
              "  <th>ia_education_index</th>          <td>0.0785</td>        <td>0.0159</td>         <td>0.0936</td>        <td>0.0203</td>          <td>0.0500</td>      \n",
              "</tr>\n",
              "<tr>\n",
              "  <th> </th>                          <td>(0.8041)</td>      <td>(0.1132)</td>       <td>(1.0933)</td>      <td>(0.2059)</td>        <td>(0.5020)</td>     \n",
              "</tr>\n",
              "<tr>\n",
              "  <th>epi</th>                        <td>0.2526***</td>      <td>0.0630*</td>       <td>0.5001***</td>      <td>0.0524</td>         <td>0.0837**</td>     \n",
              "</tr>\n",
              "<tr>\n",
              "  <th> </th>                          <td>(5.9246)</td>      <td>(1.6561)</td>       <td>(6.2542)</td>      <td>(0.8152)</td>        <td>(2.5023)</td>     \n",
              "</tr>\n",
              "<tr>\n",
              "  <th>hdi</th>                       <td>-0.8296***</td>     <td>-0.6570*</td>      <td>-1.0263***</td>     <td>-1.0951*</td>       <td>-0.6523***</td>    \n",
              "</tr>\n",
              "<tr>\n",
              "  <th> </th>                          <td>(-3.0905)</td>     <td>(-1.8384)</td>      <td>(-4.2510)</td>     <td>(-1.9481)</td>       <td>(-2.9596)</td>    \n",
              "</tr>\n",
              "<tr>\n",
              "  <th>=======================</th> <td>==============</td> <td>=============</td> <td>==============</td> <td>=============</td> <td>=================</td>\n",
              "</tr>\n",
              "<tr>\n",
              "  <th>Effects</th>                        <td></td>           <td>Entity</td>          <td>Time</td>         <td>Entity</td>             <td></td>         \n",
              "</tr>\n",
              "<tr>\n",
              "  <th></th>                               <td></td>              <td></td>               <td></td>            <td>Time</td>              <td></td>         \n",
              "</tr>\n",
              "</table><br/><br/>T-stats reported in parentheses<br/>id: 0x7f4ca890e3d0"
            ]
          },
          "metadata": {},
          "execution_count": 60
        }
      ],
      "source": [
        "from linearmodels.panel.results import compare\n",
        "table = {\n",
        "    \"Pooled\" : model1.fit(cov_type=\"clustered\", cluster_entity=True),\n",
        "    \"Entity FE\" : model2.fit(cov_type=\"clustered\", cluster_entity=True),\n",
        "    \"Time FE\" :  model3.fit(cov_type=\"clustered\", cluster_entity=True),\n",
        "    \"Mixed Effects\" : model4.fit(cov_type=\"clustered\", cluster_entity=True),\n",
        "    \"Random Effects\" : model5.fit(cov_type=\"clustered\", cluster_entity=True)}\n",
        "    \n",
        "compare(table, stars = True)"
      ]
    },
    {
      "cell_type": "code",
      "source": [],
      "metadata": {
        "id": "kNEGJ_9VZgbK"
      },
      "id": "kNEGJ_9VZgbK",
      "execution_count": null,
      "outputs": []
    },
    {
      "cell_type": "code",
      "execution_count": null,
      "id": "4ee0cbf5-c840-4ef0-ba06-1fd565107e6c",
      "metadata": {
        "id": "4ee0cbf5-c840-4ef0-ba06-1fd565107e6c"
      },
      "outputs": [],
      "source": []
    }
  ],
  "metadata": {
    "kernelspec": {
      "display_name": "Python 3 (ipykernel)",
      "language": "python",
      "name": "python3"
    },
    "language_info": {
      "codemirror_mode": {
        "name": "ipython",
        "version": 3
      },
      "file_extension": ".py",
      "mimetype": "text/x-python",
      "name": "python",
      "nbconvert_exporter": "python",
      "pygments_lexer": "ipython3",
      "version": "3.9.7"
    },
    "colab": {
      "provenance": [],
      "include_colab_link": true
    }
  },
  "nbformat": 4,
  "nbformat_minor": 5
}