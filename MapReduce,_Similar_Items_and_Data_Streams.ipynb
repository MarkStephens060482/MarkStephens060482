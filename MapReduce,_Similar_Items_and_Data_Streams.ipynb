{
  "nbformat": 4,
  "nbformat_minor": 0,
  "metadata": {
    "colab": {
      "provenance": [],
      "mount_file_id": "1vCyYTNbmw47A7--8WPl729Df7eiixuQP",
      "authorship_tag": "ABX9TyOATw4EJ13LcjmrFI8g3ro6",
      "include_colab_link": true
    },
    "kernelspec": {
      "name": "python3",
      "display_name": "Python 3"
    },
    "language_info": {
      "name": "python"
    }
  },
  "cells": [
    {
      "cell_type": "markdown",
      "metadata": {
        "id": "view-in-github",
        "colab_type": "text"
      },
      "source": [
        "<a href=\"https://colab.research.google.com/github/MarkStephens060482/MarkStephens060482/blob/main/MapReduce%2C_Similar_Items_and_Data_Streams.ipynb\" target=\"_parent\"><img src=\"https://colab.research.google.com/assets/colab-badge.svg\" alt=\"Open In Colab\"/></a>"
      ]
    },
    {
      "cell_type": "markdown",
      "source": [
        "# MapReduce, Similar Items and Data Streams\n",
        "\n",
        "### Exercise 1 - Friend Recommendation System\n",
        "A “People You Might Know” social network friendship \n",
        "recommendation algorithm.\n",
        "\n",
        "The program uses a number of MapReduce process to achieve the outcome. The initial map tasks seperates the text elements per line at the tab delimiter and then at the comma delimeter, forming tuple elements of (User, [Friends]) pairs, where [Friends] is a list of actual friends. The permutations of each actual friends list per user are found and mapped and combined to key value pairs of mutual friends of the form *((friend_i, friend_j), 1)*. All tuple elements are reduced to total count of each unique mutual friend pair, achieving an resilient distributed dataset of key value elements of the form *((friend_i, friend_j), Value)*. These values are sorted by Value then by key to ensure the recommended friends list per user is prepared in dscending order of value. A reducer is used on the key value RDD to form a single tuple element per User consisting of a list of recommended friends for that User, of the form of *(User_i,[friend1,friend2,...,friend_n])*. This is then mapped to a sorted list of tuples by User and the list of recommended friends in truncated to 10 friends. The RDD is mapped to the format of a tab delimitered string per line and is saved as an output textfile. The recommendations for the users with user IDs of interest is as follows:\n",
        "\n",
        "|User|Friend Recommendations |\n",
        "|:---:|:---------------------:|\n",
        "| 924|[45881, 43748, 15416, 11860, 6995, 2409, 439]|\n",
        "|8941|[8938, 8946, 8942, 8945, 8944, 8943, 8939, 8940]|\n",
        "|8942|[8941, 8939, 8938, 8946, 8945, 8944, 8943, 8940]|\n",
        "|9019|[320, 9018, 9022, 9021, 9020, 9017, 9016, 9023, 317]|\n",
        "|9020|[9021, 9022, 9019, 9018, 9017, 9016, 320, 9023, 317]|\n",
        "|9021|[9020, 9022, 9019, 9018, 9017, 9016, 320, 9023, 317]|\n",
        "|9022|[9021, 9020, 9019, 9023, 9018, 9017, 9016, 320, 317]|\n",
        "|9990|[9994, 9993, 9989, 9988, 9987, 35667, 9991, 9992, 37941, 34642]|\n",
        "|9992|[9989, 9987, 35667, 9994, 9993, 9990, 9988, 9991]|\n",
        "|9993|[9994, 9990, 9991, 9989, 9988, 9987, 35667, 9992, 37941, 34642]|\n"
      ],
      "metadata": {
        "id": "C0cG4UuKofPR"
      }
    },
    {
      "cell_type": "markdown",
      "source": [
        "Install Pyspark package"
      ],
      "metadata": {
        "id": "q0zQLoy2pT4X"
      }
    },
    {
      "cell_type": "code",
      "execution_count": null,
      "metadata": {
        "colab": {
          "base_uri": "https://localhost:8080/"
        },
        "id": "bEmbCxuzoTwV",
        "outputId": "69988864-c798-447e-ced8-a128fe1ea3c2"
      },
      "outputs": [
        {
          "output_type": "stream",
          "name": "stdout",
          "text": [
            "Looking in indexes: https://pypi.org/simple, https://us-python.pkg.dev/colab-wheels/public/simple/\n",
            "Requirement already satisfied: pyspark in /usr/local/lib/python3.9/dist-packages (3.3.2)\n",
            "Requirement already satisfied: py4j==0.10.9.5 in /usr/local/lib/python3.9/dist-packages (from pyspark) (0.10.9.5)\n"
          ]
        }
      ],
      "source": [
        "!pip install pyspark"
      ]
    },
    {
      "cell_type": "markdown",
      "source": [
        "Mount the Google Drive to Google Collab."
      ],
      "metadata": {
        "id": "1mUdQWrvpEHO"
      }
    },
    {
      "cell_type": "code",
      "source": [
        "from google.colab import drive\n",
        "drive.mount('/content/gdrive')"
      ],
      "metadata": {
        "id": "mjcS-iKAo-be",
        "colab": {
          "base_uri": "https://localhost:8080/"
        },
        "outputId": "59f805c6-f07c-4f40-9520-b0e86960c327"
      },
      "execution_count": null,
      "outputs": [
        {
          "output_type": "stream",
          "name": "stdout",
          "text": [
            "Mounted at /content/gdrive\n"
          ]
        }
      ]
    },
    {
      "cell_type": "markdown",
      "source": [
        "Import relevant libraries from PySpark and initialise a Spark Session. The session is run in Standalone mode designated with 'local' using all available CPU cores.The Spark application name is set as *'Friends Recommendation'* and an existing SparkSession object is returned or a new one is created."
      ],
      "metadata": {
        "id": "BHawOnyfpbS8"
      }
    },
    {
      "cell_type": "code",
      "source": [
        "# Create SparkSession and SparkContext\n",
        "from pyspark.sql import SparkSession\n",
        "\n",
        "spark = SparkSession.builder\\\n",
        "                  .master('local[*]')\\\n",
        "                  .appName('FriendsRecommendation')\\\n",
        "                  .getOrCreate()\n",
        "sc = spark.sparkContext"
      ],
      "metadata": {
        "id": "6o23MxPQpaxt"
      },
      "execution_count": null,
      "outputs": []
    },
    {
      "cell_type": "markdown",
      "source": [
        "Load the input file of the adjacency list of *Users* and *Friends* per line, each represented by an unique integer ID. "
      ],
      "metadata": {
        "id": "0-KcN0eZuIe7"
      }
    },
    {
      "cell_type": "code",
      "source": [
        "input_PATH = '/content/gdrive/MyDrive/Colab Notebooks/soc-LiveJournal1Adj.txt'\n",
        "adj = sc.textFile(input_PATH)"
      ],
      "metadata": {
        "id": "sB1zA72zs38-"
      },
      "execution_count": null,
      "outputs": []
    },
    {
      "cell_type": "markdown",
      "source": [
        "The function is to determine a list of mutual friend pairs and construct a (key, value) tuple in the form of ((friend1, friend2), 1). The mutual friend pairs takes into consideration that friendships are mutual, that is, if A is friends with B then B is friends with A. This implies that (1,2) is different from (2,1) and so are counted seperately."
      ],
      "metadata": {
        "id": "dz4V_treUfun"
      }
    },
    {
      "cell_type": "code",
      "source": [
        "from itertools import permutations\n",
        "\n",
        "# Unique Combination Pairs for list of elements\n",
        "def mutualfriends(list_elements):\n",
        "  friend_connections = []\n",
        "  for pair in permutations(list_elements,2):\n",
        "    friend_connections.append(pair)\n",
        "  return friend_connections"
      ],
      "metadata": {
        "id": "AFPdbWcVu_4i"
      },
      "execution_count": null,
      "outputs": []
    },
    {
      "cell_type": "markdown",
      "source": [
        "Define a combiner to combine all mutual friend pairs. The *mapKeys* function returns a key-value tuple of the form ((friend1,friend2),1).The *createCombiner* function passes the key value tuple of  to the *combineByKey* function. The mergeValue\n"
      ],
      "metadata": {
        "id": "aBAyr1xJWNvC"
      }
    },
    {
      "cell_type": "code",
      "source": [
        "# Defining createCombiner, mergeValue and mergeCombiner functions\n",
        "def mapKeys(tuple):\n",
        "   return (tuple,1)\n",
        "\n",
        "def createCombiner(value):\n",
        "  return value\n",
        "    \n",
        "def mergeValue(combiner, new_value): \n",
        "  return combiner + new_value\n",
        "    \n",
        "def mergeCombiner(combiner1, combiner2): \n",
        "  count = combiner1 + combiner2\n",
        "  return count"
      ],
      "metadata": {
        "id": "zJXayi6lNXjC"
      },
      "execution_count": null,
      "outputs": []
    },
    {
      "cell_type": "markdown",
      "source": [
        "This function returns a condition value n for the top N list of friend recommendations. If the list of friend recommendations is less than n, then the function returns the lenth of the recommendations list, otherwise it will return the top n value."
      ],
      "metadata": {
        "id": "JglAeQOaLzEo"
      }
    },
    {
      "cell_type": "code",
      "source": [
        "def conditionaltopN(l,n):\n",
        "  if len(l) < n:\n",
        "    return len(l)\n",
        "  return n"
      ],
      "metadata": {
        "id": "yXoLCYCiLzMO"
      },
      "execution_count": null,
      "outputs": []
    },
    {
      "cell_type": "markdown",
      "source": [
        "The main program consists of a series of MapReduce jobs that takes the input of < User >< TAB >< Friends > strings and maps it to tuples elements of mutual friends per user in the form of (Friend_i, Friend_j). Then a Combiner forms key value pairs and reduces the elements to ((Friend_i,Friend_j),Value) mutual friends elements. Key value tuple elements are sorted and reduced to (Friend_i, [friend1, friend2,...,friendn]) elements where list of friends are in descendinbg order of value. The elements are then mapped to (Friend_i, [friend1, friend2,...,friend10]) with a truncated list to 10 or less recommended friends."
      ],
      "metadata": {
        "id": "qO5v-GIlvgBT"
      }
    },
    {
      "cell_type": "code",
      "source": [
        "# *********The Main Program***********\n",
        "if __name__ == \"__main__\":   \n",
        "  #transform the adjacency list text file to split at the occurrences of a tab\n",
        "  friend_data = adj.map(lambda line: line.split(\"\\t\"))\n",
        "  # convert user and friends to a tuple with the friends as a list.  \n",
        "  user_friendlist_tuples = friend_data.map(lambda x: (x[0],x[1].split(',')))\n",
        "  # map the user_friendlist tuple pairs to a list of key value pairs, where the keys are mutual friend\n",
        "  #pairings for each user. \n",
        "  mutualfriends_list = user_friendlist_tuples.flatMap(lambda x: mutualfriends((x[1])))\n",
        "  # map the elements in the tuples from strings to integers.\n",
        "  mutualfriends_integer_list = mutualfriends_list.map(lambda x: tuple(map(int,x)))\n",
        "  # Counts the occurrences of each mutual friends tuple key.\n",
        "  mutualfriendsCount = mutualfriends_integer_list.map(mapKeys)\\\n",
        "  .combineByKey(createCombiner,mergeValue,mergeCombiner)\n",
        "\n",
        "  # sort the tuples of mutual friends first by the value,\n",
        "  # then by the numerical value of the friend ID both in descending order.\n",
        "  mutualfriendsCount_sorted = mutualfriendsCount.sortBy(lambda x: [x[1],x[0]], ascending = False)\n",
        "\n",
        "  # map the mutual friend key value pairs to user and friend recommendation key value pair,\n",
        "  # where the friend recommendation is a list of elements\n",
        "  friend_recommendations = mutualfriendsCount_sorted.map(lambda x: (x[0][0],[ x[0][1] ]))\\\n",
        "  .reduceByKey(lambda a, b: a + b)\n",
        "\n",
        "  # sort the tuples by user, then restrict the list of recommended friends to the top 10.  \n",
        "  n = 10\n",
        "  friend_recs_sorted_topn = friend_recommendations.sortBy(lambda x: x[0])\\\n",
        "  .map(lambda x: (x[0],x[1][:conditionaltopN(x[1],n)]))\n",
        "\n",
        "  # Observe the top 5 elements of the RDD to confirm program has worked properly\n",
        "  friend_recs_sorted_topn.take(5)"
      ],
      "metadata": {
        "id": "LZGQUw0ZvfU5"
      },
      "execution_count": null,
      "outputs": []
    },
    {
      "cell_type": "markdown",
      "source": [
        "The key value RDD is filtered by the users of interest and presented in a dataframe. This is achieved by using the *RDD.filter()* function and *createDataFrame* function converts to the dataframe representation."
      ],
      "metadata": {
        "id": "-SRurgjgmdm_"
      }
    },
    {
      "cell_type": "code",
      "source": [
        "# recommendations for the users with following user IDs: 924, 8941, 8942, 9019, 9020, 9021, 9022, 9990, 9992, 9993.\n",
        "users_of_interest = [924, 8941, 8942, 9019, 9020, 9021, 9022, 9990, 9992, 9993]\n",
        "selected_recommendations = friend_recs_sorted_topn.filter(lambda x: x[0] in users_of_interest)\n",
        "\n",
        "schema_lst = [\"User\",\"Friend Recommendations\"]\n",
        " \n",
        " # calling function to convert RDD to dataframe\n",
        "selected_recommendations_df = spark.createDataFrame(selected_recommendations,schema_lst)\n",
        "   \n",
        "# visualizing the schema and dataframe\n",
        "selected_recommendations_df.printSchema()\n",
        "selected_recommendations_df.show(truncate=False)"
      ],
      "metadata": {
        "id": "ZqpeJjlalgym",
        "colab": {
          "base_uri": "https://localhost:8080/"
        },
        "outputId": "2e1829e3-a8b5-44e5-aa57-c133091b94da"
      },
      "execution_count": null,
      "outputs": [
        {
          "output_type": "stream",
          "name": "stdout",
          "text": [
            "root\n",
            " |-- User: long (nullable = true)\n",
            " |-- Friend Recommendations: array (nullable = true)\n",
            " |    |-- element: long (containsNull = true)\n",
            "\n",
            "+----+---------------------------------------------------------------+\n",
            "|User|Friend Recommendations                                         |\n",
            "+----+---------------------------------------------------------------+\n",
            "|924 |[45881, 43748, 15416, 11860, 6995, 2409, 439]                  |\n",
            "|8941|[8938, 8946, 8942, 8945, 8944, 8943, 8939, 8940]               |\n",
            "|8942|[8941, 8939, 8938, 8946, 8945, 8944, 8943, 8940]               |\n",
            "|9019|[320, 9018, 9022, 9021, 9020, 9017, 9016, 9023, 317]           |\n",
            "|9020|[9021, 9022, 9019, 9018, 9017, 9016, 320, 9023, 317]           |\n",
            "|9021|[9020, 9022, 9019, 9018, 9017, 9016, 320, 9023, 317]           |\n",
            "|9022|[9021, 9020, 9019, 9023, 9018, 9017, 9016, 320, 317]           |\n",
            "|9990|[9994, 9993, 9989, 9988, 9987, 35667, 9991, 9992, 37941, 34642]|\n",
            "|9992|[9989, 9987, 35667, 9994, 9993, 9990, 9988, 9991]              |\n",
            "|9993|[9994, 9990, 9991, 9989, 9988, 9987, 35667, 9992, 37941, 34642]|\n",
            "+----+---------------------------------------------------------------+\n",
            "\n"
          ]
        }
      ]
    },
    {
      "cell_type": "markdown",
      "source": [
        "The elements of the Resilient Distributed Dataset are prepare for the output by mapping them to tab seperated strings, of the form:\n",
        " * < User>< TAB>< Recommendations  > \n",
        "\n",
        " The RDD is converted to a Binary File using the saveAsTextFile() method. This method writes the RDD data to a distributed file system (e.g., HDFS) in parallel, which can handle large data volumes and distribute the write operation across multiple nodes in a cluster, however the HDFS is coalesced to a single file called part-00000."
      ],
      "metadata": {
        "id": "C1QVeMJQYg0r"
      }
    },
    {
      "cell_type": "code",
      "source": [
        "# Produce the output in the format <User><TAB><Recommendations>\n",
        "output = friend_recs_sorted_topn.map(lambda x: \"%s\\t%s\" %(x[0],x[1]))\n",
        "\n",
        "# define the directory where the partition files are located\n",
        "dir_path = \"/content/gdrive/MyDrive/Colab Notebooks/output\"\n",
        "\n",
        "# write the RDD output to a HDFS coalesced to a single partition file.\n",
        "output.coalesce(1,True).saveAsTextFile(dir_path)"
      ],
      "metadata": {
        "id": "cqxv0t0FZ75P"
      },
      "execution_count": null,
      "outputs": []
    },
    {
      "cell_type": "markdown",
      "source": [
        "The Binary File with name *part-00000* is converted to a textfile with extension .txt such that it may be read externally by any text file reader application."
      ],
      "metadata": {
        "id": "YIcXEdVK7eQi"
      }
    },
    {
      "cell_type": "code",
      "source": [
        "# import the os and shutil libraries\n",
        "import os\n",
        "import shutil\n",
        "\n",
        "# loop over all files in the directory and rename them with the .txt extension\n",
        "for filename in os.listdir(dir_path):\n",
        "    if filename.startswith('part-'):\n",
        "        os.rename(os.path.join(dir_path, filename), os.path.join(dir_path, filename + '.txt'))\n",
        "\n",
        "spark.stop()"
      ],
      "metadata": {
        "id": "9zELbpoC6w4_"
      },
      "execution_count": null,
      "outputs": []
    },
    {
      "cell_type": "markdown",
      "source": [
        "***\n",
        "# Exercise 2 - S-curve"
      ],
      "metadata": {
        "id": "MUwy5Pc6UCWm"
      }
    },
    {
      "cell_type": "markdown",
      "source": [
        "Locality Sensitive Hashing (LSH) is a procedure that hashes similar input items into the same category of 'bucket' with high probability. It finds similar items without computing similarities between every possible pair. The MinHash Signature matrix of the Characteristic matrix of sets (documents), is divided up into **b** bands each with **r** rows. Also, suppose a particular pair of documents have Jaccard similarity **s**.Also, it is found that the probability the MinHash Signature for these documents are equal in any particular row of the signature matrix is also **s**. Therefore the probability that the signatures of the documents become candidate pairs from performing LSH is given by:\n",
        "\n",
        "> >>$1-(1-s^r)^b$\n",
        "\n",
        "That is, the probability that the signatures agree in all the rows of at least one band, and therefore become a candidate pair. When the probability is greater than 0.5, the *threshold* for the similarity of document pairs to be regarded as a desired \"similar pair is estimated to be:\n",
        "> >>$t = (1/b)^{1/a}$  \n",
        "\n",
        "It is noted that this gives an over-estimate and is highlighted as a coordinate point on the plots below.\n",
        "\n",
        "The code below defines the *S-curve* function with parameters *S*, *r* and *b*. The three cases of values for *r* and *b* are defined. The range of values of the Jaccard similarity *s* is also defined using numpy's *linspace* function. The values of probabilities determined by the S-curve function are evaluated for the specific parameters and are shown in the dataframe. A graphical represerntation of the three S-curves is provided with the threshold cooridnate annotated on the graphs."
      ],
      "metadata": {
        "id": "GN5oonG1SvzM"
      }
    },
    {
      "cell_type": "code",
      "source": [
        "import numpy as np, pandas as pd\n",
        "import matplotlib.pyplot as plt\n",
        "\n",
        "# define function for S-curve\n",
        "def Scurve(s,r,b):\n",
        "  p = 1-(1-s**r)**b\n",
        "  return p\n",
        "\n",
        "# define values of Jaccard Similarities\n",
        "s = np.linspace(0,1,100, endpoint = False)\n",
        "\n",
        "# parameters \n",
        "r1, b1 = 3,10\n",
        "r2, b2 = 6,20\n",
        "r3, b3 = 5,50\n",
        "\n",
        "# define S-curve values\n",
        "p1 = Scurve(s,r1,b1)\n",
        "p2 = Scurve(s,r2,b2)\n",
        "p3 = Scurve(s,r3,b3)\n",
        "\n",
        "#dataframe of values\n",
        "Scurve_df = pd.DataFrame(np.c_[s,p1,p2,p3],columns=[\"Jaccard Similarity\",'r=3,b=10','r=6,b=20','r=5,b=50'])\n",
        "\n",
        "# approximating the Threshold t = (1/b)^(1/r)\n",
        "t1 = (1/b1)**(1/r1)\n",
        "t2 = (1/b2)**(1/r2)\n",
        "t3 = (1/b3)**(1/r3)\n",
        "\n",
        "# The S-curve fuction is evaluated\n",
        "Scurve_df.iloc[10:100:10, :]"
      ],
      "metadata": {
        "id": "XyJeEYYwT_Vn",
        "colab": {
          "base_uri": "https://localhost:8080/",
          "height": 331
        },
        "outputId": "94e52230-26a9-4bd0-c2eb-54f0d1687a1f"
      },
      "execution_count": null,
      "outputs": [
        {
          "output_type": "execute_result",
          "data": {
            "text/plain": [
              "    Jaccard Similarity  r=3,b=10  r=6,b=20  r=5,b=50\n",
              "10                 0.1  0.009955  0.000020  0.000500\n",
              "20                 0.2  0.077181  0.001279  0.015875\n",
              "30                 0.3  0.239449  0.014479  0.114540\n",
              "40                 0.4  0.483871  0.078809  0.402284\n",
              "50                 0.5  0.736924  0.270187  0.795551\n",
              "60                 0.6  0.912267  0.615415  0.982534\n",
              "70                 0.7  0.985015  0.918186  0.999899\n",
              "80                 0.8  0.999234  0.997712  1.000000\n",
              "90                 0.9  0.999998  1.000000  1.000000"
            ],
            "text/html": [
              "\n",
              "  <div id=\"df-580281ed-ceb8-498a-878e-bb70b99073fa\">\n",
              "    <div class=\"colab-df-container\">\n",
              "      <div>\n",
              "<style scoped>\n",
              "    .dataframe tbody tr th:only-of-type {\n",
              "        vertical-align: middle;\n",
              "    }\n",
              "\n",
              "    .dataframe tbody tr th {\n",
              "        vertical-align: top;\n",
              "    }\n",
              "\n",
              "    .dataframe thead th {\n",
              "        text-align: right;\n",
              "    }\n",
              "</style>\n",
              "<table border=\"1\" class=\"dataframe\">\n",
              "  <thead>\n",
              "    <tr style=\"text-align: right;\">\n",
              "      <th></th>\n",
              "      <th>Jaccard Similarity</th>\n",
              "      <th>r=3,b=10</th>\n",
              "      <th>r=6,b=20</th>\n",
              "      <th>r=5,b=50</th>\n",
              "    </tr>\n",
              "  </thead>\n",
              "  <tbody>\n",
              "    <tr>\n",
              "      <th>10</th>\n",
              "      <td>0.1</td>\n",
              "      <td>0.009955</td>\n",
              "      <td>0.000020</td>\n",
              "      <td>0.000500</td>\n",
              "    </tr>\n",
              "    <tr>\n",
              "      <th>20</th>\n",
              "      <td>0.2</td>\n",
              "      <td>0.077181</td>\n",
              "      <td>0.001279</td>\n",
              "      <td>0.015875</td>\n",
              "    </tr>\n",
              "    <tr>\n",
              "      <th>30</th>\n",
              "      <td>0.3</td>\n",
              "      <td>0.239449</td>\n",
              "      <td>0.014479</td>\n",
              "      <td>0.114540</td>\n",
              "    </tr>\n",
              "    <tr>\n",
              "      <th>40</th>\n",
              "      <td>0.4</td>\n",
              "      <td>0.483871</td>\n",
              "      <td>0.078809</td>\n",
              "      <td>0.402284</td>\n",
              "    </tr>\n",
              "    <tr>\n",
              "      <th>50</th>\n",
              "      <td>0.5</td>\n",
              "      <td>0.736924</td>\n",
              "      <td>0.270187</td>\n",
              "      <td>0.795551</td>\n",
              "    </tr>\n",
              "    <tr>\n",
              "      <th>60</th>\n",
              "      <td>0.6</td>\n",
              "      <td>0.912267</td>\n",
              "      <td>0.615415</td>\n",
              "      <td>0.982534</td>\n",
              "    </tr>\n",
              "    <tr>\n",
              "      <th>70</th>\n",
              "      <td>0.7</td>\n",
              "      <td>0.985015</td>\n",
              "      <td>0.918186</td>\n",
              "      <td>0.999899</td>\n",
              "    </tr>\n",
              "    <tr>\n",
              "      <th>80</th>\n",
              "      <td>0.8</td>\n",
              "      <td>0.999234</td>\n",
              "      <td>0.997712</td>\n",
              "      <td>1.000000</td>\n",
              "    </tr>\n",
              "    <tr>\n",
              "      <th>90</th>\n",
              "      <td>0.9</td>\n",
              "      <td>0.999998</td>\n",
              "      <td>1.000000</td>\n",
              "      <td>1.000000</td>\n",
              "    </tr>\n",
              "  </tbody>\n",
              "</table>\n",
              "</div>\n",
              "      <button class=\"colab-df-convert\" onclick=\"convertToInteractive('df-580281ed-ceb8-498a-878e-bb70b99073fa')\"\n",
              "              title=\"Convert this dataframe to an interactive table.\"\n",
              "              style=\"display:none;\">\n",
              "        \n",
              "  <svg xmlns=\"http://www.w3.org/2000/svg\" height=\"24px\"viewBox=\"0 0 24 24\"\n",
              "       width=\"24px\">\n",
              "    <path d=\"M0 0h24v24H0V0z\" fill=\"none\"/>\n",
              "    <path d=\"M18.56 5.44l.94 2.06.94-2.06 2.06-.94-2.06-.94-.94-2.06-.94 2.06-2.06.94zm-11 1L8.5 8.5l.94-2.06 2.06-.94-2.06-.94L8.5 2.5l-.94 2.06-2.06.94zm10 10l.94 2.06.94-2.06 2.06-.94-2.06-.94-.94-2.06-.94 2.06-2.06.94z\"/><path d=\"M17.41 7.96l-1.37-1.37c-.4-.4-.92-.59-1.43-.59-.52 0-1.04.2-1.43.59L10.3 9.45l-7.72 7.72c-.78.78-.78 2.05 0 2.83L4 21.41c.39.39.9.59 1.41.59.51 0 1.02-.2 1.41-.59l7.78-7.78 2.81-2.81c.8-.78.8-2.07 0-2.86zM5.41 20L4 18.59l7.72-7.72 1.47 1.35L5.41 20z\"/>\n",
              "  </svg>\n",
              "      </button>\n",
              "      \n",
              "  <style>\n",
              "    .colab-df-container {\n",
              "      display:flex;\n",
              "      flex-wrap:wrap;\n",
              "      gap: 12px;\n",
              "    }\n",
              "\n",
              "    .colab-df-convert {\n",
              "      background-color: #E8F0FE;\n",
              "      border: none;\n",
              "      border-radius: 50%;\n",
              "      cursor: pointer;\n",
              "      display: none;\n",
              "      fill: #1967D2;\n",
              "      height: 32px;\n",
              "      padding: 0 0 0 0;\n",
              "      width: 32px;\n",
              "    }\n",
              "\n",
              "    .colab-df-convert:hover {\n",
              "      background-color: #E2EBFA;\n",
              "      box-shadow: 0px 1px 2px rgba(60, 64, 67, 0.3), 0px 1px 3px 1px rgba(60, 64, 67, 0.15);\n",
              "      fill: #174EA6;\n",
              "    }\n",
              "\n",
              "    [theme=dark] .colab-df-convert {\n",
              "      background-color: #3B4455;\n",
              "      fill: #D2E3FC;\n",
              "    }\n",
              "\n",
              "    [theme=dark] .colab-df-convert:hover {\n",
              "      background-color: #434B5C;\n",
              "      box-shadow: 0px 1px 3px 1px rgba(0, 0, 0, 0.15);\n",
              "      filter: drop-shadow(0px 1px 2px rgba(0, 0, 0, 0.3));\n",
              "      fill: #FFFFFF;\n",
              "    }\n",
              "  </style>\n",
              "\n",
              "      <script>\n",
              "        const buttonEl =\n",
              "          document.querySelector('#df-580281ed-ceb8-498a-878e-bb70b99073fa button.colab-df-convert');\n",
              "        buttonEl.style.display =\n",
              "          google.colab.kernel.accessAllowed ? 'block' : 'none';\n",
              "\n",
              "        async function convertToInteractive(key) {\n",
              "          const element = document.querySelector('#df-580281ed-ceb8-498a-878e-bb70b99073fa');\n",
              "          const dataTable =\n",
              "            await google.colab.kernel.invokeFunction('convertToInteractive',\n",
              "                                                     [key], {});\n",
              "          if (!dataTable) return;\n",
              "\n",
              "          const docLinkHtml = 'Like what you see? Visit the ' +\n",
              "            '<a target=\"_blank\" href=https://colab.research.google.com/notebooks/data_table.ipynb>data table notebook</a>'\n",
              "            + ' to learn more about interactive tables.';\n",
              "          element.innerHTML = '';\n",
              "          dataTable['output_type'] = 'display_data';\n",
              "          await google.colab.output.renderOutput(dataTable, element);\n",
              "          const docLink = document.createElement('div');\n",
              "          docLink.innerHTML = docLinkHtml;\n",
              "          element.appendChild(docLink);\n",
              "        }\n",
              "      </script>\n",
              "    </div>\n",
              "  </div>\n",
              "  "
            ]
          },
          "metadata": {},
          "execution_count": 52
        }
      ]
    },
    {
      "cell_type": "code",
      "source": [
        "# The graphical representation of the probability that signatures agree in all the rows of at least on band.\n",
        "fig = plt.figure(figsize=(9,7))\n",
        "# r = 3, b = 10\n",
        "plt.plot(s,p1,label ='r = 3, b = 10')\n",
        "plt.scatter(t1,Scurve(t1,r1,b1),label =f\"({t1:.2f},{Scurve(t1,r1,b1):.2f})\",marker=\"o\")\n",
        "\n",
        "# r = 6, b = 20\n",
        "plt.plot(s,p2,label ='r = 6, b = 20')\n",
        "plt.scatter(t2,Scurve(t2,r2,b2),label =f\"({t2:.2f}, {Scurve(t2,r2,b2):.2f})\",marker=\"o\")\n",
        "# r = 5, b = 50\n",
        "plt.plot(s,p3,label ='r = 5, b = 50')\n",
        "plt.scatter(t3,Scurve(t3,r3,b3),label =f\"({t3:.2f}, {Scurve(t3,r3,b3):.2f})\", marker=\"o\")\n",
        "\n",
        "#Show legend\n",
        "plt.legend()\n",
        "#Shoe axis labels\n",
        "plt.xlabel('Jaccard Similarity') \n",
        "plt.ylabel('Probability of identifying a candidate pair') \n",
        "# displaying the title\n",
        "plt.title(\"The probability that the HashMin signatures agree in all rows of at least\\\n",
        " one band of the Signature Matrix from Localised Sensitive Hashing.\")\n",
        "plt.show()"
      ],
      "metadata": {
        "id": "71HzmR_WNCuk",
        "colab": {
          "base_uri": "https://localhost:8080/",
          "height": 458
        },
        "outputId": "78f46526-bf85-48f1-e60d-9173fa63fd3d"
      },
      "execution_count": null,
      "outputs": [
        {
          "output_type": "display_data",
          "data": {
            "text/plain": [
              "<Figure size 648x504 with 1 Axes>"
            ],
            "image/png": "[encoded data removed]"
          },
          "metadata": {
            "needs_background": "light"
          }
        }
      ]
    },
    {
      "cell_type": "markdown",
      "source": [
        "The graph highlights examples of probability of identifying candidate sets pairs for similarity from Localised Sensitive Hashing algorithm. As the number of rows per band of the signature matrix increase, the probability of identifying a candidate pair exceeds the threshold for increasingly larger jaccard similarity of documents. However, as the number of bands increase the same probability threshold is achieved for decreasing values of Jaccard similarity."
      ],
      "metadata": {
        "id": "sMw_gfq0yG91"
      }
    },
    {
      "cell_type": "markdown",
      "source": [
        "***\n",
        "# Exercise 3 - Filtering Streams"
      ],
      "metadata": {
        "id": "icfYQ4c5gnof"
      }
    },
    {
      "cell_type": "markdown",
      "source": [
        "A false positive for Bloom filtering occurs when a new data stream element that is not in the known set $S$ of size $m$, passes through the Bloom filter and is hashed to a value of 1 in a bit array of size $n$ by all $k$ hash functions. The probability, $p$, of this occurance is given by:\n",
        "\n",
        " > >> $p=(1-e^{-mk/n})^k$\n",
        "\n",
        "For this scenario, there are $m=2*10^9$ members of set $S$ and $n=10^{10}$ number of bits in the bit array. The number of hash functions is $k=3$ and $k=4$."
      ],
      "metadata": {
        "id": "_XLcbWSoPolp"
      }
    },
    {
      "cell_type": "code",
      "source": [
        "def FP_prob(m,n,k):\n",
        "  '''\n",
        "  The false postive rate of a new element not in know set S but is hashed by k hash functions to a 1 value \n",
        "  in the bit array.\n",
        "  '''\n",
        "  p = (1-np.exp(-m*k/n))**k\n",
        "  return p\n",
        "\n",
        "#Given the values of the number of bits in the bit array and number of membersin the known set.\n",
        "m = 2*10**9\n",
        "n = 10*10**9\n",
        "\n",
        "# Number of Hash functions used in Bloom Filter.\n",
        "Ks = [3, 4]\n",
        "\n",
        "#Determine the probability of a non-member being hashed to a 1 in bit array.\n",
        "Ps=[]\n",
        "for k in Ks:\n",
        "  p = FP_prob(m,n,k)\n",
        "  Ps.append(p)\n",
        "\n",
        "pd.DataFrame(np.c_[Ks,Ps],columns = [\"no. of Hash functions\",\"False Positive rate\"])\n",
        "\n"
      ],
      "metadata": {
        "id": "XTxAJJEyUoIx",
        "colab": {
          "base_uri": "https://localhost:8080/",
          "height": 112
        },
        "outputId": "e65ea65f-f17f-4960-f99c-7e2446901ae0"
      },
      "execution_count": null,
      "outputs": [
        {
          "output_type": "execute_result",
          "data": {
            "text/plain": [
              "   no. of Hash functions  False Positive rate\n",
              "0                    3.0             0.091849\n",
              "1                    4.0             0.091954"
            ],
            "text/html": [
              "\n",
              "  <div id=\"df-3a3fa425-e763-4e57-93b9-7227e794b4f1\">\n",
              "    <div class=\"colab-df-container\">\n",
              "      <div>\n",
              "<style scoped>\n",
              "    .dataframe tbody tr th:only-of-type {\n",
              "        vertical-align: middle;\n",
              "    }\n",
              "\n",
              "    .dataframe tbody tr th {\n",
              "        vertical-align: top;\n",
              "    }\n",
              "\n",
              "    .dataframe thead th {\n",
              "        text-align: right;\n",
              "    }\n",
              "</style>\n",
              "<table border=\"1\" class=\"dataframe\">\n",
              "  <thead>\n",
              "    <tr style=\"text-align: right;\">\n",
              "      <th></th>\n",
              "      <th>no. of Hash functions</th>\n",
              "      <th>False Positive rate</th>\n",
              "    </tr>\n",
              "  </thead>\n",
              "  <tbody>\n",
              "    <tr>\n",
              "      <th>0</th>\n",
              "      <td>3.0</td>\n",
              "      <td>0.091849</td>\n",
              "    </tr>\n",
              "    <tr>\n",
              "      <th>1</th>\n",
              "      <td>4.0</td>\n",
              "      <td>0.091954</td>\n",
              "    </tr>\n",
              "  </tbody>\n",
              "</table>\n",
              "</div>\n",
              "      <button class=\"colab-df-convert\" onclick=\"convertToInteractive('df-3a3fa425-e763-4e57-93b9-7227e794b4f1')\"\n",
              "              title=\"Convert this dataframe to an interactive table.\"\n",
              "              style=\"display:none;\">\n",
              "        \n",
              "  <svg xmlns=\"http://www.w3.org/2000/svg\" height=\"24px\"viewBox=\"0 0 24 24\"\n",
              "       width=\"24px\">\n",
              "    <path d=\"M0 0h24v24H0V0z\" fill=\"none\"/>\n",
              "    <path d=\"M18.56 5.44l.94 2.06.94-2.06 2.06-.94-2.06-.94-.94-2.06-.94 2.06-2.06.94zm-11 1L8.5 8.5l.94-2.06 2.06-.94-2.06-.94L8.5 2.5l-.94 2.06-2.06.94zm10 10l.94 2.06.94-2.06 2.06-.94-2.06-.94-.94-2.06-.94 2.06-2.06.94z\"/><path d=\"M17.41 7.96l-1.37-1.37c-.4-.4-.92-.59-1.43-.59-.52 0-1.04.2-1.43.59L10.3 9.45l-7.72 7.72c-.78.78-.78 2.05 0 2.83L4 21.41c.39.39.9.59 1.41.59.51 0 1.02-.2 1.41-.59l7.78-7.78 2.81-2.81c.8-.78.8-2.07 0-2.86zM5.41 20L4 18.59l7.72-7.72 1.47 1.35L5.41 20z\"/>\n",
              "  </svg>\n",
              "      </button>\n",
              "      \n",
              "  <style>\n",
              "    .colab-df-container {\n",
              "      display:flex;\n",
              "      flex-wrap:wrap;\n",
              "      gap: 12px;\n",
              "    }\n",
              "\n",
              "    .colab-df-convert {\n",
              "      background-color: #E8F0FE;\n",
              "      border: none;\n",
              "      border-radius: 50%;\n",
              "      cursor: pointer;\n",
              "      display: none;\n",
              "      fill: #1967D2;\n",
              "      height: 32px;\n",
              "      padding: 0 0 0 0;\n",
              "      width: 32px;\n",
              "    }\n",
              "\n",
              "    .colab-df-convert:hover {\n",
              "      background-color: #E2EBFA;\n",
              "      box-shadow: 0px 1px 2px rgba(60, 64, 67, 0.3), 0px 1px 3px 1px rgba(60, 64, 67, 0.15);\n",
              "      fill: #174EA6;\n",
              "    }\n",
              "\n",
              "    [theme=dark] .colab-df-convert {\n",
              "      background-color: #3B4455;\n",
              "      fill: #D2E3FC;\n",
              "    }\n",
              "\n",
              "    [theme=dark] .colab-df-convert:hover {\n",
              "      background-color: #434B5C;\n",
              "      box-shadow: 0px 1px 3px 1px rgba(0, 0, 0, 0.15);\n",
              "      filter: drop-shadow(0px 1px 2px rgba(0, 0, 0, 0.3));\n",
              "      fill: #FFFFFF;\n",
              "    }\n",
              "  </style>\n",
              "\n",
              "      <script>\n",
              "        const buttonEl =\n",
              "          document.querySelector('#df-3a3fa425-e763-4e57-93b9-7227e794b4f1 button.colab-df-convert');\n",
              "        buttonEl.style.display =\n",
              "          google.colab.kernel.accessAllowed ? 'block' : 'none';\n",
              "\n",
              "        async function convertToInteractive(key) {\n",
              "          const element = document.querySelector('#df-3a3fa425-e763-4e57-93b9-7227e794b4f1');\n",
              "          const dataTable =\n",
              "            await google.colab.kernel.invokeFunction('convertToInteractive',\n",
              "                                                     [key], {});\n",
              "          if (!dataTable) return;\n",
              "\n",
              "          const docLinkHtml = 'Like what you see? Visit the ' +\n",
              "            '<a target=\"_blank\" href=https://colab.research.google.com/notebooks/data_table.ipynb>data table notebook</a>'\n",
              "            + ' to learn more about interactive tables.';\n",
              "          element.innerHTML = '';\n",
              "          dataTable['output_type'] = 'display_data';\n",
              "          await google.colab.output.renderOutput(dataTable, element);\n",
              "          const docLink = document.createElement('div');\n",
              "          docLink.innerHTML = docLinkHtml;\n",
              "          element.appendChild(docLink);\n",
              "        }\n",
              "      </script>\n",
              "    </div>\n",
              "  </div>\n",
              "  "
            ]
          },
          "metadata": {},
          "execution_count": 54
        }
      ]
    },
    {
      "cell_type": "markdown",
      "source": [
        "An increase in hash functions leads to a slight increase in probability of false positives. An increasing false positive rate would suggest that an increase in the k value would moving away from the optimum k value that minimises the rate. These two values in the context of a range of k values, the number of hash functions used in the filter, is given below:\n"
      ],
      "metadata": {
        "id": "OWwFJ7-k-8Vc"
      }
    },
    {
      "cell_type": "code",
      "source": [
        "import pylab as pl\n",
        "# The graphical representation of the false positive rate of the Bloom filter.\n",
        "fig = plt.figure(figsize=(9,7))\n",
        "\n",
        "# k is an integer value.\n",
        "kvalues = np.linspace(0,15,num = 16,endpoint = True)\n",
        "\n",
        "markerline, stemlines, baseline = plt.stem(kvalues, FP_prob(m,n,kvalues), '-.')\n",
        "pl.setp(markerline, 'markerfacecolor', 'b','alpha',0.2)\n",
        "pl.setp(baseline, 'color','r', 'linewidth', 2)\n",
        "\n",
        "for i,k in enumerate(Ks):\n",
        "  plt.scatter(k,Ps[i],label =f\"({k},{Ps[i]:.5f})\",marker=\"+\",s = 120)\n",
        "\n",
        "#Show legend\n",
        "plt.legend()\n",
        "#Shoe axis labels\n",
        "plt.xlabel('Number of hash functions, k.') \n",
        "plt.ylabel('False Positive rate.') \n",
        "# displaying the title\n",
        "plt.title(\"The probability of Bloom Filter passing a stream element that is a non-member of the known set, S.\")\n",
        "plt.show()\n"
      ],
      "metadata": {
        "id": "-USOI7p2_qLh",
        "colab": {
          "base_uri": "https://localhost:8080/",
          "height": 458
        },
        "outputId": "a6e56cd8-6ee8-4787-e7eb-a04803dd07ec"
      },
      "execution_count": null,
      "outputs": [
        {
          "output_type": "display_data",
          "data": {
            "text/plain": [
              "<Figure size 648x504 with 1 Axes>"
            ],
            "image/png": "[encoded data removed]"
          },
          "metadata": {
            "needs_background": "light"
          }
        }
      ]
    },
    {
      "cell_type": "markdown",
      "source": [
        "The graph suggests that the False Positive rate has an optimum number of hash functions. This optimal value is estimated by the value of $x$ that gives a minimum stationary point for the continuous function of $f(x) = (1-e^{-mx/n})^x$, where $x \\in R$. \n",
        "\n",
        "This can be determined by taking the logarithm of both sides and then finding the derivative function.\n",
        "\n",
        "$log(f(x))=log[(1-e^{-mx/n})^x]$ \n",
        "\n",
        "$log(f(x))=xlog(1-e^{-mx/n})$\n",
        "\n",
        "${d\\over dx}log(f(x))={d\\over dx}xlog(1-e^{-mx/n})$\n",
        "\n",
        "${f'(x)\\over f(x)}=log(1-e^{-mx/n})+x{{m\\over n}e^{-mx/n}\\over 1-e^{-mx/n}}$\n",
        "\n",
        "Let  $y=e^{-mx/n}$ and so ${mx\\over n}=-log(y)$\n",
        "\n",
        "then  ${f'(x)\\over f(x)}=log(1-y)-log(y){y\\over 1-y}$\n",
        "\n",
        "A minimum stationary point in $f(x)$ is observed when its derivative $f'(x)$ is zero.\n",
        "Therefore, $log(1-y)-log(y){y\\over 1-y} = 0$\n",
        "\n",
        "${(1-y)log(1-y)-ylog(y)\\over 1-y} = 0$\n",
        "\n",
        "$(1-y)log(1-y)-ylog(y) = 0$\n",
        "\n",
        "$log(1-y)-y(log(1-y)+log(y)) = 0$\n",
        "\n",
        "$log(1-y)=ylog({y-y^2}) $\n",
        "\n",
        "$1-y=({y-y^2})^y $\n",
        "\n",
        "This is satisfied when $y = {1\\over 2}$\n",
        "\n",
        "It follows that $e^{-mx/n}={1\\over 2}$ \n",
        "\n",
        "and therefore the stationary point occurs when $x = {n\\over m}log(2)$.\n",
        "Therefore the approximate value of k that optimises the false positive rate is $k \\approx {n\\over m}log(2)$ rounded to the nearest integer of k."
      ],
      "metadata": {
        "id": "TmA6eiasNgVI"
      }
    },
    {
      "cell_type": "code",
      "source": [
        "#The optimal k given by the rule to minimise the false postive rate as given above.\n",
        "def optimalk(n,m):\n",
        "  k = round(np.log(2)*n/m)\n",
        "  return k\n",
        "\n",
        "# optimal value of number of hash functions to minimise false positive rate.\n",
        "print(f'The optimal number of hash functions is: {optimalk(n,m)}')"
      ],
      "metadata": {
        "id": "B8MoHlDvITOc",
        "colab": {
          "base_uri": "https://localhost:8080/"
        },
        "outputId": "7ab3ba51-057c-4548-c7cc-4b75bf8d7cea"
      },
      "execution_count": null,
      "outputs": [
        {
          "output_type": "stream",
          "name": "stdout",
          "text": [
            "The optimal number of hash functions is: 3\n"
          ]
        }
      ]
    }
  ]
}