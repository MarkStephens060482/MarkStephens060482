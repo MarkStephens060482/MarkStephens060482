{
  "cells": [
    {
      "cell_type": "markdown",
      "metadata": {
        "id": "view-in-github",
        "colab_type": "text"
      },
      "source": [
        "<a href=\"https://colab.research.google.com/github/MarkStephens060482/MarkStephens060482/blob/main/Kernels_of_SVM_Classifiers.ipynb\" target=\"_parent\"><img src=\"https://colab.research.google.com/assets/colab-badge.svg\" alt=\"Open In Colab\"/></a>"
      ]
    },
    {
      "cell_type": "markdown",
      "id": "8d39073d-80b0-4edc-a7a7-9a406c971bfe",
      "metadata": {
        "id": "8d39073d-80b0-4edc-a7a7-9a406c971bfe"
      },
      "source": [
        "# Investigating Kernels of Support Vector Classifiers"
      ]
    },
    {
      "cell_type": "markdown",
      "id": "4a07b480-ba96-418f-b4e9-e7ef33acb25f",
      "metadata": {
        "id": "4a07b480-ba96-418f-b4e9-e7ef33acb25f"
      },
      "source": [
        "### Scenario  \n",
        "*The goal is to practice your prediction skills on an existing dataset. You will be using the diabetes dataset available in Scikit-learn and you will be predicting the disease progression. The dataset represents values of various physiological variables of various patients over a year.\n",
        "You have been asked to propose a predictor with the best performance on this dataset when compared to a naive and regression baseline.* "
      ]
    },
    {
      "cell_type": "markdown",
      "id": "81a62b27-a087-4b67-a484-bb6959e20f82",
      "metadata": {
        "id": "81a62b27-a087-4b67-a484-bb6959e20f82"
      },
      "source": [
        "***\n",
        "### Your tasks  \n",
        "1. Write code to load the dataset and run the machine learning pipeline using SVR with different kernels. You can use the kernels you’ve learned about in this course, or other kernels. \n",
        "2. Create a naive baseline and a compare two kernels using RMSE. Perform hyperparameter tuning for your model. \n",
        "3. Create a regression baseline and compare two kernels using RMSE. Perform hyperparameter tuning for your model. "
      ]
    },
    {
      "cell_type": "code",
      "execution_count": null,
      "id": "ff24bf84-2fd4-4365-a04f-8c419396ee23",
      "metadata": {
        "id": "ff24bf84-2fd4-4365-a04f-8c419396ee23"
      },
      "outputs": [],
      "source": [
        "#load important libraries\n",
        "import numpy as np\n",
        "import pandas as pd\n",
        "import seaborn as sns\n",
        "import matplotlib.pyplot as plt\n",
        "from sklearn.datasets import load_diabetes\n",
        "from sklearn.preprocessing import StandardScaler\n",
        "from sklearn.pipeline import make_pipeline\n",
        "#from sklearn.model_selection import \n",
        "\n",
        "# load the dataset\n",
        "diabetes = load_diabetes(scaled = False)\n",
        "\n",
        "#add feature variables to dataframe\n",
        "df_diabetes = pd.DataFrame(diabetes.data,\n",
        "                           columns = diabetes.feature_names)\n",
        "#add target variable, disease_progress, to dataframe.\n",
        "df_diabetes['disease_progression']=diabetes.target"
      ]
    },
    {
      "cell_type": "code",
      "execution_count": null,
      "id": "bdf82ceb-ad88-4398-a1fc-ae9989703fff",
      "metadata": {
        "id": "bdf82ceb-ad88-4398-a1fc-ae9989703fff",
        "outputId": "417436fb-da1a-4449-a8d8-203badb77247"
      },
      "outputs": [
        {
          "data": {
            "text/html": [
              "<div>\n",
              "<style scoped>\n",
              "    .dataframe tbody tr th:only-of-type {\n",
              "        vertical-align: middle;\n",
              "    }\n",
              "\n",
              "    .dataframe tbody tr th {\n",
              "        vertical-align: top;\n",
              "    }\n",
              "\n",
              "    .dataframe thead th {\n",
              "        text-align: right;\n",
              "    }\n",
              "</style>\n",
              "<table border=\"1\" class=\"dataframe\">\n",
              "  <thead>\n",
              "    <tr style=\"text-align: right;\">\n",
              "      <th></th>\n",
              "      <th>age</th>\n",
              "      <th>sex</th>\n",
              "      <th>bmi</th>\n",
              "      <th>bp</th>\n",
              "      <th>s1</th>\n",
              "      <th>s2</th>\n",
              "      <th>s3</th>\n",
              "      <th>s4</th>\n",
              "      <th>s5</th>\n",
              "      <th>s6</th>\n",
              "      <th>disease_progression</th>\n",
              "    </tr>\n",
              "  </thead>\n",
              "  <tbody>\n",
              "    <tr>\n",
              "      <th>0</th>\n",
              "      <td>59.0</td>\n",
              "      <td>2.0</td>\n",
              "      <td>32.1</td>\n",
              "      <td>101.0</td>\n",
              "      <td>157.0</td>\n",
              "      <td>93.2</td>\n",
              "      <td>38.0</td>\n",
              "      <td>4.0</td>\n",
              "      <td>4.8598</td>\n",
              "      <td>87.0</td>\n",
              "      <td>151.0</td>\n",
              "    </tr>\n",
              "    <tr>\n",
              "      <th>1</th>\n",
              "      <td>48.0</td>\n",
              "      <td>1.0</td>\n",
              "      <td>21.6</td>\n",
              "      <td>87.0</td>\n",
              "      <td>183.0</td>\n",
              "      <td>103.2</td>\n",
              "      <td>70.0</td>\n",
              "      <td>3.0</td>\n",
              "      <td>3.8918</td>\n",
              "      <td>69.0</td>\n",
              "      <td>75.0</td>\n",
              "    </tr>\n",
              "    <tr>\n",
              "      <th>2</th>\n",
              "      <td>72.0</td>\n",
              "      <td>2.0</td>\n",
              "      <td>30.5</td>\n",
              "      <td>93.0</td>\n",
              "      <td>156.0</td>\n",
              "      <td>93.6</td>\n",
              "      <td>41.0</td>\n",
              "      <td>4.0</td>\n",
              "      <td>4.6728</td>\n",
              "      <td>85.0</td>\n",
              "      <td>141.0</td>\n",
              "    </tr>\n",
              "    <tr>\n",
              "      <th>3</th>\n",
              "      <td>24.0</td>\n",
              "      <td>1.0</td>\n",
              "      <td>25.3</td>\n",
              "      <td>84.0</td>\n",
              "      <td>198.0</td>\n",
              "      <td>131.4</td>\n",
              "      <td>40.0</td>\n",
              "      <td>5.0</td>\n",
              "      <td>4.8903</td>\n",
              "      <td>89.0</td>\n",
              "      <td>206.0</td>\n",
              "    </tr>\n",
              "    <tr>\n",
              "      <th>4</th>\n",
              "      <td>50.0</td>\n",
              "      <td>1.0</td>\n",
              "      <td>23.0</td>\n",
              "      <td>101.0</td>\n",
              "      <td>192.0</td>\n",
              "      <td>125.4</td>\n",
              "      <td>52.0</td>\n",
              "      <td>4.0</td>\n",
              "      <td>4.2905</td>\n",
              "      <td>80.0</td>\n",
              "      <td>135.0</td>\n",
              "    </tr>\n",
              "  </tbody>\n",
              "</table>\n",
              "</div>"
            ],
            "text/plain": [
              "    age  sex   bmi     bp     s1     s2    s3   s4      s5    s6  \\\n",
              "0  59.0  2.0  32.1  101.0  157.0   93.2  38.0  4.0  4.8598  87.0   \n",
              "1  48.0  1.0  21.6   87.0  183.0  103.2  70.0  3.0  3.8918  69.0   \n",
              "2  72.0  2.0  30.5   93.0  156.0   93.6  41.0  4.0  4.6728  85.0   \n",
              "3  24.0  1.0  25.3   84.0  198.0  131.4  40.0  5.0  4.8903  89.0   \n",
              "4  50.0  1.0  23.0  101.0  192.0  125.4  52.0  4.0  4.2905  80.0   \n",
              "\n",
              "   disease_progression  \n",
              "0                151.0  \n",
              "1                 75.0  \n",
              "2                141.0  \n",
              "3                206.0  \n",
              "4                135.0  "
            ]
          },
          "execution_count": 2,
          "metadata": {},
          "output_type": "execute_result"
        }
      ],
      "source": [
        "df_diabetes.head()"
      ]
    },
    {
      "cell_type": "markdown",
      "id": "96cc0b1c-4283-47bd-be89-0f312da77ea1",
      "metadata": {
        "id": "96cc0b1c-4283-47bd-be89-0f312da77ea1"
      },
      "source": [
        "### Data Pre-processing\n",
        "Examine dataset for missing values"
      ]
    },
    {
      "cell_type": "code",
      "execution_count": null,
      "id": "6e95fe2e-e022-47df-a8f1-9bd4470694e8",
      "metadata": {
        "id": "6e95fe2e-e022-47df-a8f1-9bd4470694e8",
        "outputId": "ec23557e-ca9b-4e8e-e2aa-ce5c9f54e158"
      },
      "outputs": [
        {
          "data": {
            "text/plain": [
              "age                    0\n",
              "sex                    0\n",
              "bmi                    0\n",
              "bp                     0\n",
              "s1                     0\n",
              "s2                     0\n",
              "s3                     0\n",
              "s4                     0\n",
              "s5                     0\n",
              "s6                     0\n",
              "disease_progression    0\n",
              "dtype: int64"
            ]
          },
          "execution_count": 3,
          "metadata": {},
          "output_type": "execute_result"
        }
      ],
      "source": [
        "df_diabetes.isnull().sum()"
      ]
    },
    {
      "cell_type": "markdown",
      "id": "f44e4fcb-6a1c-4e3b-8228-4397e5fd3d9e",
      "metadata": {
        "id": "f44e4fcb-6a1c-4e3b-8228-4397e5fd3d9e"
      },
      "source": [
        "The assumptions of Support Vector Machine for regression is that the predictor variables are:\n",
        "Independent and identically distributed. Examine the correlation of preedictors and outcome variables, as well as the distribution of the variables."
      ]
    },
    {
      "cell_type": "code",
      "execution_count": null,
      "id": "ee613502-6d65-491d-b327-0755698b82db",
      "metadata": {
        "id": "ee613502-6d65-491d-b327-0755698b82db",
        "outputId": "26982a55-07de-40bd-b806-3735d844624e"
      },
      "outputs": [
        {
          "data": {
            "image/png": "[encoded data removed]",
            "text/plain": [
              "<Figure size 720x576 with 2 Axes>"
            ]
          },
          "metadata": {
            "needs_background": "light"
          },
          "output_type": "display_data"
        }
      ],
      "source": [
        "diabetes_corr = df_diabetes.corr()\n",
        "plt.figure(figsize=(10,8))\n",
        "sns.heatmap(data=diabetes_corr, annot = True, fmt='.2f', linewidths=.5)\n",
        "plt.show()"
      ]
    },
    {
      "cell_type": "markdown",
      "id": "0c363742-a458-425c-aa21-c1bf78aba5f2",
      "metadata": {
        "id": "0c363742-a458-425c-aa21-c1bf78aba5f2"
      },
      "source": [
        "The correlation heatmap indicates that the features 'sex', 's2' and 'age' are least correlated with the outcome 'disease_progression', however as all predictors are not significantly correlated to the target variable, all will be considered to inform the model.\n",
        "The predictors 's1' and 's2' are highly correlated with a coefficient of 0.9 and therefore not independent of each other. Also, the predictors 's3' and 's4' are also moderately correlated with each other and exhibit a degree of dependency. The predictors that are significantly correlated to other predictors though minimally correlated to the target variable are not to be retained as features of the model."
      ]
    },
    {
      "cell_type": "code",
      "execution_count": null,
      "id": "a071e5af-ca02-47e1-a4fb-a1a8f6f1103d",
      "metadata": {
        "id": "a071e5af-ca02-47e1-a4fb-a1a8f6f1103d",
        "outputId": "085bc96a-2d50-4661-9abe-c75817c83261"
      },
      "outputs": [
        {
          "data": {
            "image/png": "[encoded data removed]",
            "text/plain": [
              "<Figure size 648x864 with 11 Axes>"
            ]
          },
          "metadata": {
            "needs_background": "light"
          },
          "output_type": "display_data"
        }
      ],
      "source": [
        "# Produce histograms of predictors and outcome variable\n",
        "\n",
        "# number of rows in subplot\n",
        "rows = int(np.floor(np.sqrt(len(df_diabetes.columns)))) \n",
        "# number of columns in subplot\n",
        "cols = int(np.ceil(len(df_diabetes.columns)/rows))\n",
        "\n",
        "fig,axs = plt.subplots(rows,cols, figsize = (3*rows,3*cols)) # produce a figure\n",
        "\n",
        "#loop for each subplot \n",
        "for idx, ax in enumerate(axs.ravel()):\n",
        "    if idx==len(df_diabetes.columns):\n",
        "        break;\n",
        "    ax.hist(df_diabetes.iloc[:,idx], alpha = 0.7)\n",
        "    ax.set_title(df_diabetes.columns[idx])\n",
        "ax.remove()\n",
        "plt.show()\n",
        "    "
      ]
    },
    {
      "cell_type": "markdown",
      "id": "f72f56fe-eb81-47ef-8774-b36bc1d75962",
      "metadata": {
        "id": "f72f56fe-eb81-47ef-8774-b36bc1d75962"
      },
      "source": [
        "The continuous numeric variables are approximately normally distributed, with slight skew. The variable 's4' has the least similar distribution, being bi-modal, as well as the categorical variable 'sex', which is a binary variable. The variables that are least correlated to the target variable, 'disease_progression', and exhibit a lack of independence are to be excluded from the model."
      ]
    },
    {
      "cell_type": "code",
      "execution_count": null,
      "id": "d94ba07a-65c4-4e26-9d51-d5d52c62ec19",
      "metadata": {
        "id": "d94ba07a-65c4-4e26-9d51-d5d52c62ec19"
      },
      "outputs": [],
      "source": [
        "# identifying predictors that exhibit correlation with target variable greater than a threshold\n",
        "threshold = 0.1 # consider all predictors\n",
        "#features = diabetes_corr.disease_progression[abs(diabetes_corr.disease_progression) > 0.3].index.tolist()\n",
        "features = diabetes_corr.disease_progression[abs(diabetes_corr.disease_progression) > threshold].index.tolist()\n",
        "# removing the variable that moderately correlated to another predictor, 's3'.\n",
        "#features.remove(['s3'])\n",
        "features.remove('s2')\n",
        "features.remove('s4')\n",
        "#dataframe with selected features \n",
        "df_diabetes = df_diabetes[features]"
      ]
    },
    {
      "cell_type": "markdown",
      "id": "12e74e2e-fb38-4415-b59f-a3e03e5d14f3",
      "metadata": {
        "id": "12e74e2e-fb38-4415-b59f-a3e03e5d14f3"
      },
      "source": [
        "Define the features and target variable to feed the model"
      ]
    },
    {
      "cell_type": "code",
      "execution_count": null,
      "id": "2ec1ceab-6b01-47fe-baf2-bf829b24afa1",
      "metadata": {
        "id": "2ec1ceab-6b01-47fe-baf2-bf829b24afa1"
      },
      "outputs": [],
      "source": [
        "# features for the model\n",
        "X = df_diabetes.drop(columns = 'disease_progression')\n",
        "\n",
        "# target variable for the model\n",
        "y = df_diabetes.disease_progression"
      ]
    },
    {
      "cell_type": "markdown",
      "id": "f0307a91-f646-470c-9074-d906046120a0",
      "metadata": {
        "id": "f0307a91-f646-470c-9074-d906046120a0"
      },
      "source": [
        "Define functions that return the naive baseline and dummy regressor baseline measure of RMSE with cros validation."
      ]
    },
    {
      "cell_type": "code",
      "execution_count": null,
      "id": "b051f14b-ea10-4531-b398-ebcf49be62b3",
      "metadata": {
        "id": "b051f14b-ea10-4531-b398-ebcf49be62b3"
      },
      "outputs": [],
      "source": [
        "from sklearn.metrics import mean_squared_error\n",
        "from sklearn.dummy import DummyRegressor\n",
        "\n",
        "\n",
        "def naive_RSME(y, y_test):\n",
        "    baseline = np.mean(y)\n",
        "    y_baseline = np.repeat(baseline, len(y_test))\n",
        "    n_MSE = mean_squared_error(y_test, y_baseline)\n",
        "    naive_RSME=np.sqrt(n_MSE)\n",
        "    return naive_RSME\n",
        "\n",
        "def dummy_RMSE(X_train, X_test, y_train, y_test): \n",
        "    lm_dummy_mean = DummyRegressor(strategy = 'mean').fit(X_train, y_train)\n",
        "    y_predict_dummy_mean = lm_dummy_mean.predict(X_test)\n",
        "    dummy_MSE = mean_squared_error(y_test, y_predict_dummy_mean)\n",
        "    dummy_RMSE = np.sqrt(dummy_MSE)\n",
        "    return dummy_RMSE"
      ]
    },
    {
      "cell_type": "markdown",
      "id": "cc93d779-57bc-4213-a78d-bdcd9cbe2fd6",
      "metadata": {
        "id": "cc93d779-57bc-4213-a78d-bdcd9cbe2fd6"
      },
      "source": [
        "### Defining the models"
      ]
    },
    {
      "cell_type": "markdown",
      "id": "6970aa7a-5548-4e2d-9ce1-1f3f9b708759",
      "metadata": {
        "id": "6970aa7a-5548-4e2d-9ce1-1f3f9b708759"
      },
      "source": [
        "The Support Vector Machine Regressor models are defined with the following kernel functions:\n",
        "1. linear\n",
        "2. polynomial\n",
        "3. radial base function\n",
        "4. sigmoid function\n",
        "\n",
        "The data is standardised  with centre and scaling as part of the pre-processing step of the pipelines. The Support Vector Machine regressors are fitted to the whole dataset for the different kernels and the training performance is assessed with RMSE score under repeated k-fold cross validation. The models are compared against the naive baseline measure of performance ."
      ]
    },
    {
      "cell_type": "code",
      "execution_count": null,
      "id": "479e67e2-4f67-49e2-99c4-fe4ebb6c0fd5",
      "metadata": {
        "id": "479e67e2-4f67-49e2-99c4-fe4ebb6c0fd5",
        "outputId": "b05495cd-34b9-47bf-b5e7-9a100838f7ed"
      },
      "outputs": [
        {
          "name": "stdout",
          "output_type": "stream",
          "text": [
            "The training performance RMSE of the untuned SVR with linear kernel is: \n",
            "    56.19 ± 0.84 (95%CI)\n",
            "The training performance RMSE of the untuned SVR with poly kernel is: \n",
            "    64.18 ± 0.84 (95%CI)\n",
            "The training performance RMSE of the untuned SVR with rbf kernel is: \n",
            "    69.6 ± 0.98 (95%CI)\n",
            "The training performance RMSE of the untuned SVR with sigmoid kernel is: \n",
            "    59.8 ± 0.78 (95%CI)\n"
          ]
        }
      ],
      "source": [
        "from sklearn.svm import SVR\n",
        "from sklearn.model_selection import cross_val_score\n",
        "from sklearn.model_selection import RepeatedKFold\n",
        "# define a minmax scaler to normalise minmax\n",
        "scaler = StandardScaler()\n",
        "\n",
        "#defining the kernel functions for the SVR estimator\n",
        "kernels = ['linear', 'poly', 'rbf', 'sigmoid']\n",
        "\n",
        "#initialise a repeated k-fold cross validation\n",
        "folds = 5\n",
        "repeats = 10\n",
        "cv = RepeatedKFold(n_splits = folds, n_repeats = repeats, random_state=20)\n",
        "new_line = '\\n'\n",
        "untuned_results = []\n",
        "for kernel in kernels:\n",
        "    # define the model for the different \n",
        "    regressor = SVR(kernel = kernel)\n",
        "    # make a pipeline\n",
        "    svr_pipe = make_pipeline(scaler,regressor)\n",
        "    \n",
        "    #fit the model model on training data\n",
        "    svr_pipe.fit(X,y)\n",
        "    \n",
        "    # predict on the training data\n",
        "    svr_train_predict = svr_pipe.predict(X)\n",
        "    \n",
        "    # compute a set of cross-validation scores of RMSE    \n",
        "    cv_scores = -1*cross_val_score(svr_pipe,X,y,cv = cv,scoring = 'neg_root_mean_squared_error',n_jobs=-1)\n",
        "    \n",
        "    #calculate the mean of the RMSE scores under cross-validation\n",
        "    mean_cv_score = round(cv_scores.mean(),2)\n",
        "    # calculate the standard error of the mean of the RMSE scores under cross-validation\n",
        "    sterr_cv_score = round(cv_scores.std()/np.sqrt(folds*repeats),2) \n",
        "    untuned_results.append(str(mean_cv_score) + \" \\u00B1 \" + str(2*sterr_cv_score))\n",
        "    \n",
        "    #margin of error for 95% confidence interval\n",
        "    print(f'The training performance RMSE of the untuned SVR with {kernel} kernel is: {new_line}\\\n",
        "    {mean_cv_score} \\u00B1 {2*sterr_cv_score} (95%CI)')\n",
        "    "
      ]
    },
    {
      "cell_type": "markdown",
      "id": "00a8900b-aa0a-4e0d-8f9b-a76fa4dffac2",
      "metadata": {
        "id": "00a8900b-aa0a-4e0d-8f9b-a76fa4dffac2"
      },
      "source": [
        "Establish a naive baseline score of RMSE using a dummy regressor employing mean value regression based on the whole data set."
      ]
    },
    {
      "cell_type": "code",
      "execution_count": null,
      "id": "98c75c38-c956-48d9-a430-d23196f49f34",
      "metadata": {
        "id": "98c75c38-c956-48d9-a430-d23196f49f34",
        "outputId": "12485c83-c22c-4101-8e41-7afa46717201"
      },
      "outputs": [
        {
          "name": "stdout",
          "output_type": "stream",
          "text": [
            "Naive baseline  of RMSE = 77.01\n"
          ]
        }
      ],
      "source": [
        "#score_baeline1 = naive_RSME(y, y_test)\n",
        "    \n",
        "score_baeline1 = dummy_RMSE(X, X, y, y)\n",
        "\n",
        "print(f\"Naive baseline  of RMSE = {round(score_baeline1,2)}\")"
      ]
    },
    {
      "cell_type": "markdown",
      "id": "ec4097a6-4447-4eef-ae8e-559732d56666",
      "metadata": {
        "id": "ec4097a6-4447-4eef-ae8e-559732d56666"
      },
      "source": [
        "### Segregation\n",
        "Segregate data into training and testing sets"
      ]
    },
    {
      "cell_type": "code",
      "execution_count": null,
      "id": "b76f4c93-ea70-482b-b169-9a2b089ecb7e",
      "metadata": {
        "id": "b76f4c93-ea70-482b-b169-9a2b089ecb7e",
        "outputId": "cdc2142f-3bfb-4254-81de-23bad882ea9d"
      },
      "outputs": [
        {
          "name": "stdout",
          "output_type": "stream",
          "text": [
            "Training dataset:\n",
            "X_train = (353, 7) \n",
            "y_train = (353,)\n",
            "\n",
            "Testing dataset:\n",
            "X_test = (89, 7)\n",
            "y_test = (89,)\n"
          ]
        }
      ],
      "source": [
        "from sklearn.model_selection import train_test_split\n",
        "X_train, X_test, y_train, y_test = train_test_split(X,y,test_size = 0.2, random_state=15)\n",
        "new_line = '\\n'\n",
        "print(f'Training dataset:{new_line}\\\n",
        "X_train = { X_train.shape} {new_line}\\\n",
        "y_train = { y_train.shape}{new_line}')\n",
        "\n",
        "print(f'Testing dataset:{new_line}\\\n",
        "X_test = {X_test.shape}{new_line}\\\n",
        "y_test = {y_test.shape}')"
      ]
    },
    {
      "cell_type": "markdown",
      "id": "2d47d448-565b-4404-9d92-e2baf519a65f",
      "metadata": {
        "id": "2d47d448-565b-4404-9d92-e2baf519a65f"
      },
      "source": [
        "The hyper parameter space is define for the hyper parameters *Gamma*, Kernel coefficient for ‘rbf’, ‘poly’ and ‘sigmoid’, and *C*, regularization parameter. Also, the other hyper-parameters are assigned a range of values, them being *degree*, degree of the polynomial kernel function, and *epsilon*, specifying the epsilon-tube within which no penalty is associated in the training loss function. \n",
        "A **for** loop is used to iterate through the list of kernels and a model and pipline are defined for each."
      ]
    },
    {
      "cell_type": "code",
      "execution_count": null,
      "id": "be2c742f-6e3a-429e-82c0-9e9f3d5cad15",
      "metadata": {
        "id": "be2c742f-6e3a-429e-82c0-9e9f3d5cad15",
        "outputId": "a9353d81-6a13-4be5-976a-9bd507f185c7"
      },
      "outputs": [
        {
          "name": "stdout",
          "output_type": "stream",
          "text": [
            "linear kernel for SVR estimator with tuned parameters = {'svr__C': 8.111308307896872, 'svr__degree': 2, 'svr__epsilon': 10, 'svr__gamma': 0.001}\n",
            "    Best mean cross validation score = 55.91 ± 1.86 (95%CI).\n",
            "\n",
            "poly kernel for SVR estimator with tuned parameters = {'svr__C': 73.05271542664457, 'svr__degree': 3, 'svr__epsilon': 10, 'svr__gamma': 0.0657933224657568}\n",
            "    Best mean cross validation score = 62.37 ± 2.66 (95%CI).\n",
            "\n",
            "rbf kernel for SVR estimator with tuned parameters = {'svr__C': 73.05271542664457, 'svr__degree': 2, 'svr__epsilon': 15, 'svr__gamma': 0.013688745095370805}\n",
            "    Best mean cross validation score = 55.67 ± 1.32 (95%CI).\n",
            "\n",
            "sigmoid kernel for SVR estimator with tuned parameters = {'svr__C': 151.99110829529332, 'svr__degree': 2, 'svr__epsilon': 20, 'svr__gamma': 0.038986037025490715}\n",
            "    Best mean cross validation score = 55.75 ± 1.84 (95%CI).\n",
            "\n"
          ]
        }
      ],
      "source": [
        "from sklearn.model_selection import GridSearchCV\n",
        "\n",
        "#defining the hyperparameter space ranges\n",
        "C_range = np.logspace(-1, 2.5, 12)\n",
        "gamma_range = np.logspace(-3, -0.5, 12)\n",
        "\n",
        "# hyperparameter grid\n",
        "param_grid = {'svr__C':C_range,\n",
        "              'svr__gamma':gamma_range,\n",
        "              'svr__degree':[2,3,4],\n",
        "              'svr__epsilon':[0.1,1,5,10,15,20]}\n",
        "\n",
        "#Support Vector Machine Regressors hyperparameter tuning\n",
        "tuned_model_results = []\n",
        "tuned_models = [] \n",
        "gscv_folds = 5\n",
        "for kernel in kernels:\n",
        "    # define the model for the different \n",
        "    regressor = SVR(kernel = kernel)\n",
        "    # make a pipeline\n",
        "    svr_pipe = make_pipeline(scaler,regressor)\n",
        "    \n",
        "    # define a gridsearch\n",
        "    svr_grid = GridSearchCV(estimator = svr_pipe,\n",
        "                        param_grid = param_grid,\n",
        "                        scoring = 'neg_root_mean_squared_error',\n",
        "                        #verbose = 10,\n",
        "                        n_jobs = -1,\n",
        "                        cv = gscv_folds)\n",
        "    #fit the model along the hyperparameter space\n",
        "    svr_grid.fit(X_train,y_train)\n",
        "    \n",
        "    # best mean cross-validation RMSE score\n",
        "    mean_gridcv = round(-1*svr_grid.best_score_,2)\n",
        "    # standard error of mean cross-validation RMSE score\n",
        "    sterr_gridcv = round((svr_grid.cv_results_['std_test_score'][svr_grid.best_index_])/np.sqrt(folds),2)\n",
        "    \n",
        "    tuned_models.append(svr_grid)   \n",
        "    tuned_model_results.append(str(mean_gridcv)+\" \\u00B1 \"+str(2*sterr_gridcv))\n",
        "    \n",
        "    # give best cross validation score with 95% confidence interval. \n",
        "    print(f'{kernel} kernel for SVR estimator with tuned parameters = {svr_grid.best_params_}{new_line}\\\n",
        "    Best mean cross validation score = {mean_gridcv} \\u00B1 {2*sterr_gridcv} (95%CI).{new_line}')"
      ]
    },
    {
      "cell_type": "markdown",
      "id": "faf5fec5-6caf-4dc2-a99b-754eade1c0b5",
      "metadata": {
        "id": "faf5fec5-6caf-4dc2-a99b-754eade1c0b5"
      },
      "source": [
        "### Evaluate on test data\n",
        "The tuned Support Vector Machine Regressors are evaluated on unseen test data."
      ]
    },
    {
      "cell_type": "code",
      "execution_count": null,
      "id": "14682dd0-709d-4a19-a0aa-178a119fb6ba",
      "metadata": {
        "id": "14682dd0-709d-4a19-a0aa-178a119fb6ba",
        "outputId": "0c857da6-d023-4e4a-a6ef-52766c72d092"
      },
      "outputs": [
        {
          "name": "stdout",
          "output_type": "stream",
          "text": [
            "The SVR with linear kernel, the RMSE on test data is: 54.42.\n",
            "\n",
            "The SVR with poly kernel, the RMSE on test data is: 61.89.\n",
            "\n",
            "The SVR with rbf kernel, the RMSE on test data is: 52.68.\n",
            "\n",
            "The SVR with sigmoid kernel, the RMSE on test data is: 54.44.\n",
            "\n"
          ]
        }
      ],
      "source": [
        "test_results = []\n",
        "# loop through the tuned models and evaluate performance\n",
        "for i,tuned_model in enumerate(tuned_models):\n",
        "    #form predictions on test data\n",
        "    y_pred = tuned_model.predict(X_test)\n",
        "    # evaluate performance with RMSE\n",
        "    performance_score = round(np.sqrt(mean_squared_error(y_test,y_pred)),2)\n",
        "    test_results.append(performance_score)\n",
        "    \n",
        "    print(f'The SVR with {kernels[i]} kernel, the RMSE on test data is: {performance_score}.{new_line}') "
      ]
    },
    {
      "cell_type": "markdown",
      "id": "43c04c2b-7750-45a5-823e-0b24df021128",
      "metadata": {
        "id": "43c04c2b-7750-45a5-823e-0b24df021128"
      },
      "source": [
        "### Summary of results\n",
        "A summary of results giving the Root Mean Squared Error for naive baseline, untuned and tuned model training as well as for final model performance on test data."
      ]
    },
    {
      "cell_type": "code",
      "execution_count": null,
      "id": "aae3cd43-ea9b-4760-96a1-7a0f4ceb2389",
      "metadata": {
        "id": "aae3cd43-ea9b-4760-96a1-7a0f4ceb2389",
        "outputId": "39e70a79-2cad-42ec-f5f9-0bdd3240aa9c"
      },
      "outputs": [
        {
          "data": {
            "text/html": [
              "<div>\n",
              "<style scoped>\n",
              "    .dataframe tbody tr th:only-of-type {\n",
              "        vertical-align: middle;\n",
              "    }\n",
              "\n",
              "    .dataframe tbody tr th {\n",
              "        vertical-align: top;\n",
              "    }\n",
              "\n",
              "    .dataframe thead th {\n",
              "        text-align: right;\n",
              "    }\n",
              "</style>\n",
              "<table border=\"1\" class=\"dataframe\">\n",
              "  <thead>\n",
              "    <tr style=\"text-align: right;\">\n",
              "      <th></th>\n",
              "      <th>SVR kernel functions</th>\n",
              "      <th>naive baseline RMSE</th>\n",
              "      <th>untuned training RMSE under CV</th>\n",
              "      <th>tuned training RMSE under CV</th>\n",
              "      <th>Model performance RMSE</th>\n",
              "    </tr>\n",
              "  </thead>\n",
              "  <tbody>\n",
              "    <tr>\n",
              "      <th>0</th>\n",
              "      <td>linear</td>\n",
              "      <td>77.01</td>\n",
              "      <td>56.19 ± 0.84</td>\n",
              "      <td>55.91 ± 1.86</td>\n",
              "      <td>54.42</td>\n",
              "    </tr>\n",
              "    <tr>\n",
              "      <th>1</th>\n",
              "      <td>poly</td>\n",
              "      <td>77.01</td>\n",
              "      <td>64.18 ± 0.84</td>\n",
              "      <td>62.37 ± 2.66</td>\n",
              "      <td>61.89</td>\n",
              "    </tr>\n",
              "    <tr>\n",
              "      <th>2</th>\n",
              "      <td>rbf</td>\n",
              "      <td>77.01</td>\n",
              "      <td>69.6 ± 0.98</td>\n",
              "      <td>55.67 ± 1.32</td>\n",
              "      <td>52.68</td>\n",
              "    </tr>\n",
              "    <tr>\n",
              "      <th>3</th>\n",
              "      <td>sigmoid</td>\n",
              "      <td>77.01</td>\n",
              "      <td>59.8 ± 0.78</td>\n",
              "      <td>55.75 ± 1.84</td>\n",
              "      <td>54.44</td>\n",
              "    </tr>\n",
              "  </tbody>\n",
              "</table>\n",
              "</div>"
            ],
            "text/plain": [
              "  SVR kernel functions naive baseline RMSE untuned training RMSE under CV  \\\n",
              "0               linear               77.01                   56.19 ± 0.84   \n",
              "1                 poly               77.01                   64.18 ± 0.84   \n",
              "2                  rbf               77.01                    69.6 ± 0.98   \n",
              "3              sigmoid               77.01                    59.8 ± 0.78   \n",
              "\n",
              "  tuned training RMSE under CV Model performance RMSE  \n",
              "0                 55.91 ± 1.86                  54.42  \n",
              "1                 62.37 ± 2.66                  61.89  \n",
              "2                 55.67 ± 1.32                  52.68  \n",
              "3                 55.75 ± 1.84                  54.44  "
            ]
          },
          "execution_count": 14,
          "metadata": {},
          "output_type": "execute_result"
        }
      ],
      "source": [
        "pd.DataFrame(np.c_[pd.Series(kernels),\n",
        "                   pd.Series(np.repeat(round(score_baeline1,2),len(kernels))),\n",
        "                   pd.Series(untuned_results),\n",
        "                   pd.Series(tuned_model_results),\n",
        "                   pd.Series(test_results)],\n",
        "             columns = ['SVR kernel functions',\n",
        "                        'naive baseline RMSE',\n",
        "                        'untuned training RMSE under CV',\n",
        "                        'tuned training RMSE under CV',\n",
        "                        \"Model performance RMSE\"])\n",
        "                "
      ]
    }
  ],
  "metadata": {
    "kernelspec": {
      "display_name": "Python 3 (ipykernel)",
      "language": "python",
      "name": "python3"
    },
    "language_info": {
      "codemirror_mode": {
        "name": "ipython",
        "version": 3
      },
      "file_extension": ".py",
      "mimetype": "text/x-python",
      "name": "python",
      "nbconvert_exporter": "python",
      "pygments_lexer": "ipython3",
      "version": "3.9.7"
    },
    "colab": {
      "provenance": [],
      "include_colab_link": true
    }
  },
  "nbformat": 4,
  "nbformat_minor": 5
}